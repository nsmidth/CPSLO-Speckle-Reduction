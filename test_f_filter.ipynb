{
 "metadata": {
  "name": ""
 },
 "nbformat": 3,
 "nbformat_minor": 0,
 "worksheets": [
  {
   "cells": [
    {
     "cell_type": "heading",
     "level": 1,
     "metadata": {},
     "source": [
      "Frequency Domain Filters Testing"
     ]
    },
    {
     "cell_type": "heading",
     "level": 2,
     "metadata": {},
     "source": [
      "Import Modules"
     ]
    },
    {
     "cell_type": "code",
     "collapsed": false,
     "input": [
      "import numpy as np\n",
      "import matplotlib.pyplot as plt\n",
      "from scipy.fftpack import fft2,ifft2,fftshift\n",
      "from speckle_fns import fits_import\n",
      "%matplotlib inline"
     ],
     "language": "python",
     "metadata": {},
     "outputs": []
    },
    {
     "cell_type": "heading",
     "level": 2,
     "metadata": {},
     "source": [
      "Input Image"
     ]
    },
    {
     "cell_type": "markdown",
     "metadata": {},
     "source": [
      "Creating test image in spatial domain to be filtered"
     ]
    },
    {
     "cell_type": "code",
     "collapsed": false,
     "input": [
      "img = np.zeros( (512,512) )\n",
      "imgCenter = np.shape(img)[0]/2-1\n",
      "squareSize = 50\n",
      "\n",
      "squareEdges = [0,0]\n",
      "squareEdges[0] = int(img_center-square_size/2)\n",
      "squareEdges[1] = int(img_center+square_size/2)\n",
      "\n",
      "for i in range(squareEdges[0],squareEdges[1]):\n",
      "    for j in range(squareEdges[0],squareEdges[1]):\n",
      "        img[i,j]=1\n",
      "        "
     ],
     "language": "python",
     "metadata": {},
     "outputs": []
    },
    {
     "cell_type": "markdown",
     "metadata": {},
     "source": [
      "Displaying test image before filtering"
     ]
    },
    {
     "cell_type": "code",
     "collapsed": false,
     "input": [
      "plt.imshow(img)\n",
      "plt.title(\"Test Image Before Filtering\")\n",
      "plt.colorbar()\n",
      "plt.show()"
     ],
     "language": "python",
     "metadata": {},
     "outputs": []
    },
    {
     "cell_type": "heading",
     "level": 2,
     "metadata": {},
     "source": [
      "Filter Testing"
     ]
    },
    {
     "cell_type": "markdown",
     "metadata": {},
     "source": [
      "Basic LPF (circular)\n",
      "\n",
      "Circle drawn by looping through each row it resides on. \n",
      "\n",
      "$$ circStartingRow = center - \\frac{radius}{2} $$\n",
      "$$ circleEndingRow = center + \\frac{radius}{2} $$\n",
      "\n",
      "Each row looped through, drawing pixels between the two edges of the circle on that row\n",
      "\n",
      "Present row relates to y coordinate of circle as: $$y=row-circCenter[0]$$\n",
      "Present pixel relates to x coordinate of circle as: $$x=pixel-circCenter[1]$$\n",
      "Angle of edge of circle for present y coordinate: $$angle=arcsin(\\frac{y}{r})$$\n",
      "Edge of circle in x coordinates: $$x=\\frac{y}{arctan(angle)}$$\n",
      "\n"
     ]
    },
    {
     "cell_type": "code",
     "collapsed": false,
     "input": [
      "h1_f = np.zeros( (512,512) )\n",
      "\n",
      "circRadius = 10\n",
      "circCenter = [255,255]\n",
      "\n",
      "circRowStart = circ_center[0]-circ_radius/2\n",
      "circRowEnd =   circ_center[0]+circ_radius/2\n",
      "\n",
      "print(circRowStart)\n",
      "print(circRowEnd)\n",
      "\n",
      "for\n",
      "        \n",
      "plt.imshow(h1_f)\n",
      "plt.title(\"LPF Filter - Freq Domain\")\n",
      "plt.colorbar()\n",
      "plt.show()"
     ],
     "language": "python",
     "metadata": {},
     "outputs": []
    },
    {
     "cell_type": "code",
     "collapsed": false,
     "input": [],
     "language": "python",
     "metadata": {},
     "outputs": []
    }
   ],
   "metadata": {}
  }
 ]
}