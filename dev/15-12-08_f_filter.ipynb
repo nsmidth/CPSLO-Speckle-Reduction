{
 "metadata": {
  "name": ""
 },
 "nbformat": 3,
 "nbformat_minor": 0,
 "worksheets": [
  {
   "cells": [
    {
     "cell_type": "heading",
     "level": 1,
     "metadata": {},
     "source": [
      "Frequency Domain Filters Testing 3"
     ]
    },
    {
     "cell_type": "heading",
     "level": 2,
     "metadata": {},
     "source": [
      "Import Modules"
     ]
    },
    {
     "cell_type": "code",
     "collapsed": false,
     "input": [
      "import numpy as np\n",
      "import matplotlib.pyplot as plt\n",
      "from scipy.fftpack import fft2,ifft2,fftshift\n",
      "from speckle_fns import fits_import, circ_filter1\n",
      "from speckle_fns import deconv0,deconv1, postprocess\n",
      "%matplotlib inline"
     ],
     "language": "python",
     "metadata": {},
     "outputs": []
    },
    {
     "cell_type": "code",
     "collapsed": false,
     "input": [
      "# Create function for easily displaying all important image info\n",
      "# Displays image of image in spatial and freq domain\n",
      "def disp_image(image):\n",
      "    \n",
      "    # Calculate FFT of img\n",
      "    imageF = fftshift(fft2(image))\n",
      "    \n",
      "    plt.figure(figsize=(18,16),dpi=300)\n",
      "\n",
      "    plt.subplot(2,2,1)\n",
      "    plt.imshow(np.abs(image))\n",
      "    plt.title(\"Spatial Magnitude\")\n",
      "    plt.colorbar()\n",
      "    \n",
      "    plt.subplot(2,2,2)\n",
      "    plt.imshow(np.angle(image))\n",
      "    plt.title(\"Spatial Phase\")\n",
      "    plt.colorbar()\n",
      "    \n",
      "    plt.subplot(2,2,3)\n",
      "    plt.imshow(np.log10( np.abs(imageF)+1E-12 ))\n",
      "    plt.title(\"Spatial Freq Magnitude\")\n",
      "    plt.colorbar()\n",
      "    \n",
      "    plt.subplot(2,2,4)\n",
      "    plt.imshow(np.angle(imageF))\n",
      "    plt.title(\"Spatial Freq Phase\")\n",
      "    plt.colorbar()\n",
      "    \n",
      "    plt.show()\n",
      "    \n",
      "# Displays image of filter in freq and spatial domain\n",
      "\n",
      "def disp_filter(imageF):\n",
      "    \n",
      "    # Calculate iFFT of img\n",
      "    image = fftshift(ifft2(imageF))\n",
      "    \n",
      "    plt.figure(figsize=(18,16),dpi=300)\n",
      "\n",
      "    plt.subplot(2,2,1)\n",
      "    plt.imshow(np.abs(image))\n",
      "    plt.title(\"Spatial Magnitude\")\n",
      "    plt.colorbar()\n",
      "    \n",
      "    plt.subplot(2,2,2)\n",
      "    plt.imshow(np.angle(image))\n",
      "    plt.title(\"Spatial Phase\")\n",
      "    plt.colorbar()\n",
      "    \n",
      "    plt.subplot(2,2,3)\n",
      "    plt.imshow(np.log10( np.abs(imageF)+1E-12 ))\n",
      "    plt.title(\"Spatial Freq Magnitude\")\n",
      "    plt.colorbar()\n",
      "    \n",
      "    plt.subplot(2,2,4)\n",
      "    plt.imshow(np.angle(imageF))\n",
      "    plt.title(\"Spatial Freq Phase\")\n",
      "    plt.colorbar()\n",
      "    \n",
      "    plt.show()\n"
     ],
     "language": "python",
     "metadata": {},
     "outputs": []
    },
    {
     "cell_type": "markdown",
     "metadata": {},
     "source": [
      "##Filter 8 Testing\n",
      "\n",
      "Visualizing interference noise in the deconvolved astro data and trying to remove it"
     ]
    },
    {
     "cell_type": "code",
     "collapsed": false,
     "input": [
      "# Import Reference and Double Stars, perform basic deconvolution\n",
      "# Filenames\n",
      "filePathDouble = \"/home/niels/Desktop/KP330_PSD.fits\"\n",
      "filePathSingle = \"/home/niels/Desktop/KP331_PSD.fits\"\n",
      "# Import FITS file data\n",
      "fitsDoubleStar = fits_import(filePathDouble)\n",
      "fitsSingleStar = fits_import(filePathSingle)\n",
      "# Convert FITS Data to Floats\n",
      "psdDoubleStar = fitsDoubleStar.astype(float)\n",
      "psdSingleStar = fitsSingleStar.astype(float)\n",
      "# Perform Deconvolution\n",
      "constant = 1E-15\n",
      "psdDeconv1 = fftshift(deconv1(psdDoubleStar, psdSingleStar, constant))\n",
      "img8F = psdDeconv1\n",
      "\n",
      "plt.figure(figsize=(10,10))        \n",
      "plt.imshow(img8F)\n",
      "plt.show()\n",
      "\n",
      "# View one row of deconvolution to analyze interference noise\n",
      "plt.figure(figsize=(12,6))\n",
      "plt.subplot(1,2,1)\n",
      "plt.plot(np.arange(512),img8F[127,0:512])\n",
      "plt.title(\"Row of Deconvolution\")\n",
      "plt.xlabel(\"Pixels\")\n",
      "plt.ylabel(\"Intensity\")\n",
      "\n",
      "plt.subplot(1,2,2)\n",
      "plt.plot(np.arange(240,270),img8F[127,240:270])\n",
      "plt.title(\"Zoomed in Row of Deconvolution\")\n",
      "plt.xlabel(\"Pixels\")\n",
      "plt.ylabel(\"Intensity\")\n",
      "\n",
      "# Print this row to find the bad pixel\n",
      "for column in np.arange(240,270):\n",
      "    print(\"Column: \", column, \"Pixel: \", img8F[127,column])\n",
      "    "
     ],
     "language": "python",
     "metadata": {},
     "outputs": []
    },
    {
     "cell_type": "markdown",
     "metadata": {},
     "source": [
      "We see that the center of the problem is at pixel 256. In an unshifted FFT, this corresponds to row/column 0. We will try to assign the center 10 pixels to the average value of the 10 pixels on either side"
     ]
    },
    {
     "cell_type": "code",
     "collapsed": false,
     "input": [
      "# Creating another array to experiment on\n",
      "img8F_exp = np.array(img8F)\n",
      "\n",
      "# Calculate indices of bad and good pixels near center. \n",
      "# We say that the so many pixels centered on 256 are bad, and so many surrounding the \n",
      "#  bad pixels are good data\n",
      "bad_pixels = 9\n",
      "bad_pixels_start = 256 - np.floor(bad_pixels/2)\n",
      "bad_pixels_end   = 256 + np.ceil(bad_pixels/2)\n",
      "\n",
      "good_pixels = 8\n",
      "good_pixels_start1 = bad_pixels_start - good_pixels/2\n",
      "good_pixels_end1   = bad_pixels_start\n",
      "good_pixels_start2 = bad_pixels_end\n",
      "good_pixels_end2   = bad_pixels_end + good_pixels/2\n",
      "\n",
      "# Generate list of good/bad pixel indices\n",
      "good_pixels_i = np.concatenate((np.arange(good_pixels_start1,good_pixels_end1)\n",
      "                             , np.arange(good_pixels_start2,good_pixels_end2)))\n",
      "bad_pixels_i  = np.arange(bad_pixels_start,bad_pixels_end)\n",
      "good_pixels_i = good_pixels_i.astype(int)\n",
      "bad_pixels_i = bad_pixels_i.astype(int)\n",
      "\n",
      "print(\"Clean Pixel Indices: \", good_pixels_i)\n",
      "print(\"Bad Pixel Indices: \", bad_pixels_i)\n",
      "\n",
      "# Show example bad pixels\n",
      "row = 256-30\n",
      "print(\"Good Pixels: \", img8F_exp[row,good_pixels_i])\n",
      "print(\"Bad Pixels: \", img8F_exp[row,bad_pixels_i])\n",
      "\n",
      "# Assign filtered values\n",
      "for row in np.arange(512):\n",
      "    good_pixels_avg = np.average(img8F_exp[row,good_pixels_i])\n",
      "    img8F_exp[row,bad_pixels_i]=good_pixels_avg      \n",
      "        \n",
      "plt.figure(figsize=(10,10))        \n",
      "plt.imshow(img8F_exp)\n",
      "plt.show()"
     ],
     "language": "python",
     "metadata": {},
     "outputs": []
    },
    {
     "cell_type": "markdown",
     "metadata": {},
     "source": [
      "This wide filter has smudged the image too much in the center, where the valuable fringe information is contained. \n",
      "\n",
      "We see that the interference is close to 1 pixel wide in the center. This is the region of interest, so it is OK to only filter out this, outside the LPF it will all be filtered out"
     ]
    },
    {
     "cell_type": "code",
     "collapsed": false,
     "input": [
      "# Creating another array to experiment on\n",
      "img9F_exp = np.array(img8F)\n",
      "\n",
      "# Perform filtering on vertical interference\n",
      "for row in np.arange(512):\n",
      "    good_pixels_avg = np.average(img9F_exp[row,(255, 257)])\n",
      "    img9F_exp[row,256]=good_pixels_avg       \n",
      "    \n",
      "# Perform filtering on horizontal interference\n",
      "for column in np.arange(512):\n",
      "    good_pixels_avg = np.average(img9F_exp[(255, 257),column])\n",
      "    img9F_exp[256,column]=good_pixels_avg   \n",
      "        \n",
      "plt.figure(figsize=(10,10))        \n",
      "plt.imshow(img9F_exp)\n",
      "plt.show()"
     ],
     "language": "python",
     "metadata": {},
     "outputs": []
    },
    {
     "cell_type": "markdown",
     "metadata": {},
     "source": [
      "In the region of the fringes, this gives its own distortion, but the problem is removed in the region outside of the fringes. \n",
      "\n",
      "How does this look when combined with the other filters?"
     ]
    },
    {
     "cell_type": "code",
     "collapsed": false,
     "input": [
      "# Define LP gaussian function (to be used in forming highpass)\n",
      "def filter_fn10_hp(radius):\n",
      "    stdDev = 4\n",
      "    amplitude = 0.8\n",
      "    return np.multiply(0.8,np.exp(-(np.power(radius,2)/(2*np.power(stdDev,2)))))\n",
      "\n",
      "# Define LP gaussian function\n",
      "def filter_fn10_lp(radius):\n",
      "    stdDev = 10\n",
      "    return np.exp(-(np.power(radius,2)/(2*np.power(stdDev,2))))\n",
      "\n",
      "# Calculate 2D Gaussian filter\n",
      "# Generate lowpass filter to serve as inverse of highpass filter\n",
      "filter10_hp = circ_filter1(radius = 255, size = 512, filter_fn = filter_fn10_hp)\n",
      "# Generate array of 1's to be subtracted from\n",
      "filter10_ones = np.zeros((512,512))\n",
      "filter10_ones.fill(1)\n",
      "# Calculate 1 - LP, which is HP\n",
      "filter10 = np.subtract(filter10_ones,filter10_hp)\n",
      "# Generate lowpass filter \n",
      "filter10_lp = circ_filter1(radius = 255, size = 512, filter_fn = filter_fn10_lp)\n",
      "\n",
      "# Multiply LP and HP together\n",
      "filter10 = np.multiply(filter10, filter10_lp)\n",
      "\n",
      "# Display filter\n",
      "plt.figure(figsize=(10,10))        \n",
      "plt.imshow(filter10)\n",
      "plt.show()\n",
      "\n",
      "# Apply filter, view the results\n",
      "img10F = img9F_exp*filter10\n",
      "disp_filter(img10F)\n"
     ],
     "language": "python",
     "metadata": {},
     "outputs": []
    },
    {
     "cell_type": "markdown",
     "metadata": {},
     "source": [
      "This doesn't look very good, now there are quite significant lines right near the autocorrelation lobes, which I believe could lead so some significant problems when trying to find centroids.\n",
      "\n",
      "Lastly, I just want to do an experiment to view the IFFT of SQRT of the filtered image, which is what David Rowe said he does. Maybe this makes the lobes more/less visible?"
     ]
    },
    {
     "cell_type": "code",
     "collapsed": false,
     "input": [
      "plt.figure(figsize=(20,10))\n",
      "\n",
      "plt.subplot(1,2,1)\n",
      "plt.imshow(np.abs(fftshift(ifft2((img10F)))))\n",
      "plt.title(\"No Square Root\")\n",
      "\n",
      "plt.subplot(1,2,2)\n",
      "plt.imshow(np.abs(fftshift(ifft2(np.sqrt(img10F)))))\n",
      "plt.title(\"Square Root\")\n",
      "\n",
      "plt.show()"
     ],
     "language": "python",
     "metadata": {},
     "outputs": []
    },
    {
     "cell_type": "markdown",
     "metadata": {},
     "source": [
      "Reduces the interference signal that makes the vert/horiz lines, but also reduces the contrast of the lobes \n",
      "\n",
      "Comparing Autocorrs with and without interference filter"
     ]
    },
    {
     "cell_type": "code",
     "collapsed": false,
     "input": [
      "plt.figure(figsize=(30,10))\n",
      "\n",
      "plt.subplot(1,2,1)\n",
      "plt.imshow(np.abs(fftshift(ifft2((np.multiply(filter10,img8F))))))\n",
      "plt.title(\"No Interference Filter\")\n",
      "plt.colorbar()\n",
      "\n",
      "plt.subplot(1,2,2)\n",
      "plt.imshow((np.abs(fftshift(ifft2(img10F)))))\n",
      "plt.title(\"Interference Filter\")\n",
      "plt.colorbar()\n",
      "\n",
      "plt.show()"
     ],
     "language": "python",
     "metadata": {},
     "outputs": []
    }
   ],
   "metadata": {}
  }
 ]
}