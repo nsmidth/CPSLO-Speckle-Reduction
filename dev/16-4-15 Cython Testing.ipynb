{
 "cells": [
  {
   "cell_type": "code",
   "execution_count": null,
   "metadata": {
    "collapsed": false
   },
   "outputs": [],
   "source": [
    "import numpy as np\n",
    "import matplotlib.pyplot as plt\n",
    "from scipy.fftpack import fft2,ifft2,fftshift\n",
    "from labeyrieClasses import target\n",
    "\n",
    "%matplotlib inline\n",
    "%load_ext cython\n",
    "\n",
    "# Comparison of bare Python to Cython for preprocessing FITS data\n",
    "binary = target()\n",
    "binary.fits.fileName = \"/home/niels/Documents/FITS/KP330.fits\""
   ]
  },
  {
   "cell_type": "code",
   "execution_count": null,
   "metadata": {
    "collapsed": false
   },
   "outputs": [],
   "source": [
    "# This suggests converting type of a single image is \n",
    "#  faster than the entire array?\n",
    "binary.fits.read(numDimensions=3)\n",
    "%timeit fitsData = binary.fits.data.astype(np.float32)\n",
    "%timeit fitsImage = binary.fits.data[0].astype(np.float32)"
   ]
  },
  {
   "cell_type": "code",
   "execution_count": null,
   "metadata": {
    "collapsed": false
   },
   "outputs": [],
   "source": [
    "%%cython\n",
    "cimport numpy as np\n",
    "import numpy as np\n",
    "\n",
    "def typechange(np.ndarray data):\n",
    "\n",
    "    return data.astype(np.float32) \n"
   ]
  },
  {
   "cell_type": "code",
   "execution_count": null,
   "metadata": {
    "collapsed": false
   },
   "outputs": [],
   "source": [
    "# No speed gain from type conversion in C\n",
    "binary.fits.read(numDimensions=3)\n",
    "%timeit fitsData = typechange(binary.fits.data)\n",
    "%timeit fitsImage = typechange(binary.fits.data[0])"
   ]
  },
  {
   "cell_type": "code",
   "execution_count": null,
   "metadata": {
    "collapsed": false
   },
   "outputs": [],
   "source": [
    "# Comparing speeds of different parts of PSD calculation\n",
    "\n",
    "# Get FITS data\n",
    "binary.fits.read(numDimensions=3)\n",
    "fitsData = binary.fits.data.astype(np.float32)\n",
    "\n",
    "# Calculate Spectrum\n",
    "# Time the FFT \n",
    "%timeit imgF = fft2(fitsData[0])\n",
    "imgF = fft2(fitsData[0])\n",
    "# Time the magnitude calculation\n",
    "%timeit imgFabs = np.abs(imgF)\n",
    "imgFabs = np.abs(imgF)\n",
    "# Time the squaring\n",
    "%timeit imgPSD = np.power(imgFabs,2)\n",
    "%timeit imgPSD2 = imgFabs**2\n",
    "imgPSD = np.power(imgFabs,2)\n",
    "imgPSD2 = imgFabs**2\n",
    "# Conclusion: FFT is the major time user."
   ]
  }
 ],
 "metadata": {
  "kernelspec": {
   "display_name": "Python 3",
   "language": "python",
   "name": "python3"
  },
  "language_info": {
   "codemirror_mode": {
    "name": "ipython",
    "version": 3
   },
   "file_extension": ".py",
   "mimetype": "text/x-python",
   "name": "python",
   "nbconvert_exporter": "python",
   "pygments_lexer": "ipython3",
   "version": "3.5.1"
  }
 },
 "nbformat": 4,
 "nbformat_minor": 0
}
