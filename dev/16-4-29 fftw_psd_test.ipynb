{
 "cells": [
  {
   "cell_type": "markdown",
   "metadata": {},
   "source": [
    "# Testing FFTW_PSD function in LabeyrieClasses"
   ]
  },
  {
   "cell_type": "code",
   "execution_count": 1,
   "metadata": {
    "collapsed": false
   },
   "outputs": [],
   "source": [
    "from labeyrieClasses import target , fftw_psd, transpose_fftw_psd\n",
    "import numpy as np\n",
    "import matplotlib.pyplot as plt\n",
    "import ctypes\n",
    "%matplotlib inline"
   ]
  },
  {
   "cell_type": "code",
   "execution_count": 2,
   "metadata": {
    "collapsed": false
   },
   "outputs": [
    {
     "name": "stdout",
     "output_type": "stream",
     "text": [
      "Filename: /home/niels/Documents/FITS/KP330.fits\n",
      "No.    Name         Type      Cards   Dimensions   Format\n",
      "0    PRIMARY     PrimaryHDU      62   (512, 512, 1000)   float32   \n",
      "None\n"
     ]
    }
   ],
   "source": [
    "# Import fits data\n",
    "binary = target()\n",
    "binary.fits.fileName = \"/home/niels/Documents/FITS/KP330.fits\"\n",
    "binary.fits.read(numDimensions = 3)\n",
    "\n",
    "# Image sizing parameters\n",
    "imgsize = 512\n",
    "psd_n = imgsize*(int(imgsize/2)+1)\n",
    "img_n = imgsize**2"
   ]
  },
  {
   "cell_type": "code",
   "execution_count": 3,
   "metadata": {
    "collapsed": false
   },
   "outputs": [
    {
     "name": "stdout",
     "output_type": "stream",
     "text": [
      "100 loops, best of 3: 9.25 ms per loop\n",
      "(512, 257)\n",
      "float32\n"
     ]
    }
   ],
   "source": [
    "# Time PSD Calculation\n",
    "%timeit fftw_psd_img = fftw_psd(binary.fits.data[0])\n",
    "fftw_psd_img = fftw_psd(binary.fits.data[0])\n",
    "print(np.shape(fftw_psd_img))\n",
    "print(fftw_psd_img.dtype)"
   ]
  },
  {
   "cell_type": "code",
   "execution_count": null,
   "metadata": {
    "collapsed": false
   },
   "outputs": [
    {
     "name": "stdout",
     "output_type": "stream",
     "text": [
      "10 loops, best of 3: 183 ms per loop\n"
     ]
    }
   ],
   "source": [
    "# Time transposing calculation\n",
    "%timeit psd_full = transpose_fftw_psd(fftw_psd_img)\n",
    "psd_full = transpose_fftw_psd(fftw_psd_img)"
   ]
  },
  {
   "cell_type": "code",
   "execution_count": null,
   "metadata": {
    "collapsed": false
   },
   "outputs": [
    {
     "data": {
      "text/plain": [
       "<matplotlib.image.AxesImage at 0x7f34a42b9cf8>"
      ]
     },
     "execution_count": 5,
     "metadata": {},
     "output_type": "execute_result"
    }
   ],
   "source": [
    "plt.figure(figsize=(10,10))\n",
    "plt.imshow(np.log10(np.fft.fftshift(psd_full)))\n",
    "plt.figure(figsize=(5,10))\n",
    "plt.imshow(np.log10(fftw_psd_img))"
   ]
  },
  {
   "cell_type": "code",
   "execution_count": null,
   "metadata": {
    "collapsed": false
   },
   "outputs": [],
   "source": [
    "acorr = np.real(np.fft.ifft2(psd_full))\n",
    "plt.imshow(np.fft.fftshift(acorr))"
   ]
  }
 ],
 "metadata": {
  "kernelspec": {
   "display_name": "Python 3",
   "language": "python",
   "name": "python3"
  },
  "language_info": {
   "codemirror_mode": {
    "name": "ipython",
    "version": 3
   },
   "file_extension": ".py",
   "mimetype": "text/x-python",
   "name": "python",
   "nbconvert_exporter": "python",
   "pygments_lexer": "ipython3",
   "version": "3.5.1"
  }
 },
 "nbformat": 4,
 "nbformat_minor": 0
}
