{
 "cells": [
  {
   "cell_type": "markdown",
   "metadata": {},
   "source": [
    "# Testing FFTW_PSD function in LabeyrieClasses"
   ]
  },
  {
   "cell_type": "code",
   "execution_count": null,
   "metadata": {
    "collapsed": false
   },
   "outputs": [],
   "source": [
    "from labeyrieClasses import target , fftw_psd\n",
    "import numpy as np\n",
    "import matplotlib.pyplot as plt\n",
    "import ctypes"
   ]
  },
  {
   "cell_type": "code",
   "execution_count": null,
   "metadata": {
    "collapsed": false
   },
   "outputs": [],
   "source": [
    "# Import fits data\n",
    "binary = target()\n",
    "binary.fits.fileName = \"/home/niels/Documents/FITS/KP330.fits\"\n",
    "binary.fits.read(numDimensions = 3)\n",
    "\n",
    "# Image sizing parameters\n",
    "imgsize = 512\n",
    "psd_n = imgsize*(int(imgsize/2)+1)\n",
    "img_n = imgsize**2"
   ]
  },
  {
   "cell_type": "code",
   "execution_count": null,
   "metadata": {
    "collapsed": false
   },
   "outputs": [],
   "source": [
    "%timeit fftw_psd_img = fftw_psd(binary.fits.data[0])"
   ]
  },
  {
   "cell_type": "code",
   "execution_count": null,
   "metadata": {
    "collapsed": false
   },
   "outputs": [],
   "source": [
    "fftw_psd_img = fftw_psd(binary.fits.data[0])\n",
    "print(np.shape(fftw_psd_img))\n",
    "print(fftw_psd_img.dtype)"
   ]
  }
 ],
 "metadata": {
  "kernelspec": {
   "display_name": "Python 3",
   "language": "python",
   "name": "python3"
  },
  "language_info": {
   "codemirror_mode": {
    "name": "ipython",
    "version": 3
   },
   "file_extension": ".py",
   "mimetype": "text/x-python",
   "name": "python",
   "nbconvert_exporter": "python",
   "pygments_lexer": "ipython3",
   "version": "3.5.1"
  }
 },
 "nbformat": 4,
 "nbformat_minor": 0
}
