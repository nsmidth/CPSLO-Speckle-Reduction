{
 "cells": [
  {
   "cell_type": "markdown",
   "metadata": {},
   "source": [
    "# Cython Testing\n",
    "\n",
    "Testing compilation and running of cython module\n",
    "\n",
    "##Notes\n",
    "- Copied from labeyrieClasses : 48s\n",
    "- With all extra fluff and if statements removed: 47s\n",
    "- Casting to np.float32 instead of float: 22.9s"
   ]
  },
  {
   "cell_type": "code",
   "execution_count": 1,
   "metadata": {
    "collapsed": false
   },
   "outputs": [],
   "source": [
    "import numpy as np\n",
    "import matplotlib.pyplot as plt\n",
    "from scipy.fftpack import fft2,ifft2,fftshift\n",
    "from labeyrieClasses import target\n",
    "\n",
    "%matplotlib inline\n",
    "%load_ext cython"
   ]
  },
  {
   "cell_type": "code",
   "execution_count": 2,
   "metadata": {
    "collapsed": false
   },
   "outputs": [],
   "source": [
    "# Comparison of bare Python to Cython for preprocessing FITS data\n",
    "binary = target()"
   ]
  },
  {
   "cell_type": "code",
   "execution_count": 3,
   "metadata": {
    "collapsed": false
   },
   "outputs": [
    {
     "name": "stdout",
     "output_type": "stream",
     "text": [
      "Filename: /home/niels/Documents/FITS/KP330.fits\n",
      "No.    Name         Type      Cards   Dimensions   Format\n",
      "0    PRIMARY     PrimaryHDU      62   (512, 512, 1000)   float32   \n",
      "None\n"
     ]
    }
   ],
   "source": [
    "# Import demo .FITS file\n",
    "binary.fits.fileName = \"/home/niels/Documents/FITS/KP330.fits\"\n",
    "binary.fits.read(numDimensions=3)"
   ]
  },
  {
   "cell_type": "code",
   "execution_count": 4,
   "metadata": {
    "collapsed": false,
    "scrolled": false
   },
   "outputs": [
    {
     "name": "stdout",
     "output_type": "stream",
     "text": [
      "Filename: /home/niels/Documents/FITS/KP330.fits\n",
      "No.    Name         Type      Cards   Dimensions   Format\n",
      "0    PRIMARY     PrimaryHDU      62   (512, 512, 1000)   float32   \n",
      "None\n",
      "Processed Image #:  50 / 1000\n",
      "Processed Image #:  100 / 1000\n",
      "Processed Image #:  150 / 1000\n",
      "Processed Image #:  200 / 1000\n",
      "Processed Image #:  250 / 1000\n",
      "Processed Image #:  300 / 1000\n",
      "Processed Image #:  350 / 1000\n",
      "Processed Image #:  400 / 1000\n",
      "Processed Image #:  450 / 1000\n",
      "Processed Image #:  500 / 1000\n",
      "Processed Image #:  550 / 1000\n",
      "Processed Image #:  600 / 1000\n",
      "Processed Image #:  650 / 1000\n",
      "Processed Image #:  700 / 1000\n",
      "Processed Image #:  750 / 1000\n",
      "Processed Image #:  800 / 1000\n",
      "Processed Image #:  850 / 1000\n",
      "Processed Image #:  900 / 1000\n",
      "Processed Image #:  950 / 1000\n",
      "Processed Image #:  1000 / 1000\n",
      "1 loops, best of 1: 48.4 s per loop\n"
     ]
    }
   ],
   "source": [
    "%%timeit -n 1 -r 1\n",
    "binary.fits.read(numDimensions=3)\n",
    "# Preprocess .FITS with Python, time it\n",
    "# Command copied from labeyrieClasses\n",
    "\n",
    "if (len(binary.fits.data.shape) == 3):\n",
    "    # Generate empty array the size of an image to be used to accumulate\n",
    "    #  PSD values before averaging.\n",
    "    psdSum = np.zeros(binary.fits.data.shape[1:3])\n",
    "\n",
    "    imgNum = np.shape(binary.fits.data)[0] # Number of images\n",
    "    imgIncrement = imgNum/20 # How often to display a status message\n",
    "\n",
    "    # Looping through all images in cube\n",
    "    for index,img in enumerate(binary.fits.data):\n",
    "\n",
    "        # Print current file being processed\n",
    "        if (((index+1) % imgIncrement) == 0):\n",
    "            print(\"Processed Image #: \",(index+1),\"/\",imgNum)\n",
    "\n",
    "        # FFT function requires little-endian data, so casting it\n",
    "        img = img.astype(float)\n",
    "\n",
    "        # Calculate 2D power spectrum\n",
    "        # This gives us only real values\n",
    "        psdImg = np.abs(fft2(img))**2\n",
    "\n",
    "        # Accumulate current PSD value\n",
    "        psdSum = np.add(psdSum,psdImg)\n",
    "\n",
    "    # Divide by # of images to calculate average\n",
    "    psdAvg = np.divide(psdSum,imgNum)\n",
    "\n",
    "    # Normalizing FFT\n",
    "    psdAvg = np.divide(psdAvg, (psdAvg.size)**2)\n",
    "\n",
    "#Otherwise if FITS data is only one image\n",
    "elif (len(binary.fits.shape) == 2):\n",
    "    # FFT function requires little-endian data, so casting it\n",
    "    img = binary.fits.astype(float)\n",
    "\n",
    "    # Calculate 2D power spectrum\n",
    "    # This gives us only real values\n",
    "    psdImg = np.abs(fft2(img))**2\n",
    "\n",
    "    # Normalizing FFT\n",
    "    psdAvg = np.divide(psdImg, (psdImg.size)**2)\n",
    "\n",
    "    binary.psd.data = fftshift(psdAvg)"
   ]
  },
  {
   "cell_type": "code",
   "execution_count": 5,
   "metadata": {
    "collapsed": false
   },
   "outputs": [
    {
     "name": "stdout",
     "output_type": "stream",
     "text": [
      "Filename: /home/niels/Documents/FITS/KP330.fits\n",
      "No.    Name         Type      Cards   Dimensions   Format\n",
      "0    PRIMARY     PrimaryHDU      62   (512, 512, 1000)   float32   \n",
      "None\n",
      "1 loops, best of 1: 47.5 s per loop\n"
     ]
    }
   ],
   "source": [
    "%%timeit -n 1 -r 1\n",
    "binary.fits.read(numDimensions=3)\n",
    "# Preprocess .FITS with Python, time it\n",
    "# Command copied from labeyrieClasses\n",
    "# Modified with all \"if\" statements removed\n",
    "\n",
    "psdSum = np.zeros(binary.fits.data.shape[1:3])\n",
    "\n",
    "imgNum = np.shape(binary.fits.data)[0] # Number of images\n",
    "imgIncrement = imgNum/20 # How often to display a status message\n",
    "\n",
    "# Looping through all images in cube\n",
    "for index,img in enumerate(binary.fits.data):\n",
    "\n",
    "    # FFT function requires little-endian data, so casting it\n",
    "    img = img.astype(float)\n",
    "\n",
    "    # Calculate 2D power spectrum\n",
    "    # This gives us only real values\n",
    "    psdImg = np.abs(fft2(img))**2\n",
    "\n",
    "    # Accumulate current PSD value\n",
    "    psdSum = np.add(psdSum,psdImg)\n",
    "\n",
    "# Divide by # of images to calculate average\n",
    "psdAvg = np.divide(psdSum,imgNum)\n",
    "\n",
    "# Normalizing FFT\n",
    "psdAvg = np.divide(psdAvg, (psdAvg.size)**2)"
   ]
  },
  {
   "cell_type": "code",
   "execution_count": 6,
   "metadata": {
    "collapsed": false
   },
   "outputs": [
    {
     "name": "stdout",
     "output_type": "stream",
     "text": [
      "Filename: /home/niels/Documents/FITS/KP330.fits\n",
      "No.    Name         Type      Cards   Dimensions   Format\n",
      "0    PRIMARY     PrimaryHDU      62   (512, 512, 1000)   float32   \n",
      "None\n",
      "1 loops, best of 1: 22.9 s per loop\n"
     ]
    }
   ],
   "source": [
    "%%timeit -n 1 -r 1\n",
    "binary.fits.read(numDimensions=3)\n",
    "# Preprocess .FITS with Python, time it\n",
    "# Command copied from labeyrieClasses\n",
    "# Modified with all \"if\" statements removed\n",
    "\n",
    "psdSum = np.zeros(binary.fits.data.shape[1:3])\n",
    "\n",
    "imgNum = np.shape(binary.fits.data)[0] # Number of images\n",
    "imgIncrement = imgNum/20 # How often to display a status message\n",
    "\n",
    "# Looping through all images in cube\n",
    "for index,img in enumerate(binary.fits.data):\n",
    "\n",
    "    # FFT function requires little-endian data, so casting it\n",
    "    img = img.astype(np.float32)\n",
    "\n",
    "    # Calculate 2D power spectrum\n",
    "    # This gives us only real values\n",
    "    psdImg = np.abs(fft2(img))**2\n",
    "\n",
    "    # Accumulate current PSD value\n",
    "    psdSum = np.add(psdSum,psdImg)\n",
    "\n",
    "# Divide by # of images to calculate average\n",
    "psdAvg = np.divide(psdSum,imgNum)\n",
    "\n",
    "# Normalizing FFT\n",
    "psdAvg = np.divide(psdAvg, (psdAvg.size)**2)"
   ]
  },
  {
   "cell_type": "raw",
   "metadata": {},
   "source": [
    "%%cython --annotate\n",
    "# Make a preprocess module in Cython\n",
    "cimport numpy as np\n",
    "\n",
    "def preprocess(np.ndarray fits):\n",
    "    # PSD of present image\n",
    "    cdef np.ndarray psdImg = np.zeros((512,512), dtype=np.long)\n",
    "    # Accumulated PSD values\n",
    "    cdef np.ndarray psdSum = np.zeros((512,512), dtype=np.long)\n",
    "    # Index of image being PSD'ed\n",
    "    cdef int i = 0\n",
    "    \n",
    "    # Loop through \n",
    "    \n",
    "\n"
   ]
  }
 ],
 "metadata": {
  "kernelspec": {
   "display_name": "Python 3",
   "language": "python",
   "name": "python3"
  },
  "language_info": {
   "codemirror_mode": {
    "name": "ipython",
    "version": 3
   },
   "file_extension": ".py",
   "mimetype": "text/x-python",
   "name": "python",
   "nbconvert_exporter": "python",
   "pygments_lexer": "ipython3",
   "version": "3.5.1"
  }
 },
 "nbformat": 4,
 "nbformat_minor": 0
}
