{
 "cells": [
  {
   "cell_type": "markdown",
   "metadata": {},
   "source": [
    "# Cython Testing\n",
    "\n",
    "Testing compilation and running of cython module\n",
    "\n",
    "##Notes\n",
    "- Copied from labeyrieClasses : 48s\n",
    "- With all extra fluff and if statements removed: 47s\n",
    "- Casting to np.float32 instead of float: 22.9s\n",
    "- Casting entire 1000x512x512 fits cube to np.float32 takes 0.855s\n",
    "    - Casting entire 1000x512x512 fits cube to float takes 18.5s\n",
    "- No significant gain from casting the entire fits cube first (rather than image by image)"
   ]
  },
  {
   "cell_type": "code",
   "execution_count": null,
   "metadata": {
    "collapsed": false
   },
   "outputs": [],
   "source": [
    "import numpy as np\n",
    "import matplotlib.pyplot as plt\n",
    "from scipy.fftpack import fft2,ifft2,fftshift\n",
    "from labeyrieClasses import target\n",
    "\n",
    "%matplotlib inline\n",
    "%load_ext cython"
   ]
  },
  {
   "cell_type": "code",
   "execution_count": null,
   "metadata": {
    "collapsed": false
   },
   "outputs": [],
   "source": [
    "# Comparison of bare Python to Cython for preprocessing FITS data\n",
    "binary = target()"
   ]
  },
  {
   "cell_type": "code",
   "execution_count": null,
   "metadata": {
    "collapsed": false
   },
   "outputs": [],
   "source": [
    "# Import demo .FITS file\n",
    "binary.fits.fileName = \"/home/niels/Documents/FITS/KP330.fits\"\n",
    "binary.fits.read(numDimensions=3)"
   ]
  },
  {
   "cell_type": "code",
   "execution_count": null,
   "metadata": {
    "collapsed": false,
    "scrolled": false
   },
   "outputs": [],
   "source": [
    "%%timeit -n 1 -r 1\n",
    "binary.fits.read(numDimensions=3)\n",
    "# Preprocess .FITS with Python, time it\n",
    "# Command copied from labeyrieClasses\n",
    "\n",
    "if (len(binary.fits.data.shape) == 3):\n",
    "    # Generate empty array the size of an image to be used to accumulate\n",
    "    #  PSD values before averaging.\n",
    "    psdSum = np.zeros(binary.fits.data.shape[1:3])\n",
    "\n",
    "    imgNum = np.shape(binary.fits.data)[0] # Number of images\n",
    "    imgIncrement = imgNum/20 # How often to display a status message\n",
    "\n",
    "    # Looping through all images in cube\n",
    "    for index,img in enumerate(binary.fits.data):\n",
    "\n",
    "        # Print current file being processed\n",
    "        if (((index+1) % imgIncrement) == 0):\n",
    "            print(\"Processed Image #: \",(index+1),\"/\",imgNum)\n",
    "\n",
    "        # FFT function requires little-endian data, so casting it\n",
    "        img = img.astype(float)\n",
    "\n",
    "        # Calculate 2D power spectrum\n",
    "        # This gives us only real values\n",
    "        psdImg = np.abs(fft2(img))**2\n",
    "\n",
    "        # Accumulate current PSD value\n",
    "        psdSum = np.add(psdSum,psdImg)\n",
    "\n",
    "    # Divide by # of images to calculate average\n",
    "    psdAvg = np.divide(psdSum,imgNum)\n",
    "\n",
    "    # Normalizing FFT\n",
    "    psdAvg = np.divide(psdAvg, (psdAvg.size)**2)\n",
    "\n",
    "#Otherwise if FITS data is only one image\n",
    "elif (len(binary.fits.shape) == 2):\n",
    "    # FFT function requires little-endian data, so casting it\n",
    "    img = binary.fits.astype(float)\n",
    "\n",
    "    # Calculate 2D power spectrum\n",
    "    # This gives us only real values\n",
    "    psdImg = np.abs(fft2(img))**2\n",
    "\n",
    "    # Normalizing FFT\n",
    "    psdAvg = np.divide(psdImg, (psdImg.size)**2)\n",
    "\n",
    "    binary.psd.data = fftshift(psdAvg)"
   ]
  },
  {
   "cell_type": "code",
   "execution_count": null,
   "metadata": {
    "collapsed": false
   },
   "outputs": [],
   "source": [
    "%%timeit -n 1 -r 1\n",
    "binary.fits.read(numDimensions=3)\n",
    "# Preprocess .FITS with Python, time it\n",
    "# Command copied from labeyrieClasses\n",
    "# Modified with all \"if\" statements removed\n",
    "\n",
    "psdSum = np.zeros(binary.fits.data.shape[1:3])\n",
    "\n",
    "imgNum = np.shape(binary.fits.data)[0] # Number of images\n",
    "imgIncrement = imgNum/20 # How often to display a status message\n",
    "\n",
    "# Looping through all images in cube\n",
    "for index,img in enumerate(binary.fits.data):\n",
    "\n",
    "    # FFT function requires little-endian data, so casting it\n",
    "    img = img.astype(float)\n",
    "\n",
    "    # Calculate 2D power spectrum\n",
    "    # This gives us only real values\n",
    "    psdImg = np.abs(fft2(img))**2\n",
    "\n",
    "    # Accumulate current PSD value\n",
    "    psdSum = np.add(psdSum,psdImg)\n",
    "\n",
    "# Divide by # of images to calculate average\n",
    "psdAvg = np.divide(psdSum,imgNum)\n",
    "\n",
    "# Normalizing FFT\n",
    "psdAvg = np.divide(psdAvg, (psdAvg.size)**2)"
   ]
  },
  {
   "cell_type": "code",
   "execution_count": null,
   "metadata": {
    "collapsed": false
   },
   "outputs": [],
   "source": [
    "%%timeit -n 1 -r 1\n",
    "binary.fits.read(numDimensions=3)\n",
    "# Preprocess .FITS with Python, time it\n",
    "# Command copied from labeyrieClasses\n",
    "# Modified with all \"if\" statements removed\n",
    "# Casting to np.float32 instead\n",
    "\n",
    "psdSum = np.zeros(binary.fits.data.shape[1:3])\n",
    "\n",
    "imgNum = np.shape(binary.fits.data)[0] # Number of images\n",
    "imgIncrement = imgNum/20 # How often to display a status message\n",
    "\n",
    "# Looping through all images in cube\n",
    "for index,img in enumerate(binary.fits.data):\n",
    "\n",
    "    # FFT function requires little-endian data, so casting it\n",
    "    img = img.astype(np.float32)\n",
    "\n",
    "    # Calculate 2D power spectrum\n",
    "    # This gives us only real values\n",
    "    psdImg = np.abs(fft2(img))**2\n",
    "\n",
    "    # Accumulate current PSD value\n",
    "    psdSum = np.add(psdSum,psdImg)\n",
    "\n",
    "# Divide by # of images to calculate average\n",
    "psdAvg = np.divide(psdSum,imgNum)\n",
    "\n",
    "# Normalizing FFT\n",
    "psdAvg = np.divide(psdAvg, (psdAvg.size)**2)"
   ]
  },
  {
   "cell_type": "code",
   "execution_count": null,
   "metadata": {
    "collapsed": false
   },
   "outputs": [],
   "source": [
    "# Checking difference in casting to different types\n",
    "%timeit test = binary.fits.data.astype(np.float32)\n",
    "%timeit test = binary.fits.data.astype(float)"
   ]
  },
  {
   "cell_type": "code",
   "execution_count": null,
   "metadata": {
    "collapsed": false
   },
   "outputs": [],
   "source": [
    "%%timeit -n 1 -r 1\n",
    "binary.fits.read(numDimensions=3)\n",
    "# Preprocess .FITS with Python, time it\n",
    "# Command copied from labeyrieClasses\n",
    "# Modified with all \"if\" statements removed\n",
    "# Trying to pre-cast the entire cube before the loop\n",
    "\n",
    "psdSum = np.zeros(binary.fits.data.shape[1:3])\n",
    "\n",
    "imgNum = np.shape(binary.fits.data)[0] # Number of images\n",
    "imgIncrement = imgNum/20 # How often to display a status message\n",
    "\n",
    "dataFloat32 = binary.fits.data.astype(np.float32)\n",
    "\n",
    "# Looping through all images in cube\n",
    "for index,img in enumerate(dataFloat32):\n",
    "\n",
    "    # Calculate 2D power spectrum\n",
    "    # This gives us only real values\n",
    "    psdImg = np.abs(fft2(img))**2\n",
    "\n",
    "    # Accumulate current PSD value\n",
    "    psdSum = np.add(psdSum,psdImg)\n",
    "\n",
    "# Divide by # of images to calculate average\n",
    "psdAvg = np.divide(psdSum,imgNum)\n",
    "\n",
    "# Normalizing FFT\n",
    "psdAvg = np.divide(psdAvg, (psdAvg.size)**2)\n",
    "\n",
    "# Shifting FFT\n",
    "psdAvg = np.fft.fftshift(psdAvg)\n",
    "\n",
    "plt.imshow(np.log10(psdAvg+1E-3))"
   ]
  },
  {
   "cell_type": "code",
   "execution_count": null,
   "metadata": {
    "collapsed": false
   },
   "outputs": [],
   "source": [
    "%%cython --annotate\n",
    "# A test cython module\n",
    "cimport numpy as np\n",
    "import numpy as np\n",
    "\n",
    "def takePSD(np.ndarray image):\n",
    "\n",
    "    cdef np.ndarray image_f32 = np.zeros([512,512], dtype=np.float32)\n",
    "    cdef np.ndarray psd = np.zeros([512,512], dtype=np.float32)\n",
    "\n",
    "    #print(\"Hello World\")\n",
    "    \n",
    "    # FFT function requires little-endian data, so casting it\n",
    "    image_f32 = image.astype(np.float32)\n",
    "\n",
    "    # Calculate 2D power spectrum\n",
    "    # This gives us only real values\n",
    "    psd = np.power(np.abs(np.fft.fft2(image_f32)),2)\n",
    "    \n",
    "    # Normalizing FFT\n",
    "    psd = np.divide(psd, (psd.size)**2)\n",
    "    \n",
    "    # Shifting FFT\n",
    "    psd = np.fft.fftshift(psd)\n",
    "\n",
    "    return psd\n",
    "    #return image_f32\n"
   ]
  },
  {
   "cell_type": "code",
   "execution_count": null,
   "metadata": {
    "collapsed": false
   },
   "outputs": [],
   "source": [
    "binary.fits.read(numDimensions=3)\n",
    "# Run the test Cython function\n",
    "\n",
    "psd = takePSD(binary.fits.data[0])\n",
    "\n",
    "plt.figure()\n",
    "plt.imshow(binary.fits.data[0])\n",
    "\n",
    "plt.figure()\n",
    "plt.imshow(np.log10(psd+1E-3))\n",
    "plt.colorbar()\n"
   ]
  },
  {
   "cell_type": "code",
   "execution_count": null,
   "metadata": {
    "collapsed": false
   },
   "outputs": [],
   "source": [
    "%%cython --annotate\n",
    "# Make a preprocess module in Cython\n",
    "cimport numpy as np\n",
    "import numpy as np\n",
    "\n",
    "def preprocess(np.ndarray fits):\n",
    "    # PSD of present image\n",
    "    cdef np.ndarray psdImg = np.zeros((512,512), dtype=np.float32)\n",
    "    # Accumulated PSD values\n",
    "    cdef np.ndarray psdAvg = np.zeros((512,512), dtype=np.float32)\n",
    "    # Accumulated PSD values\n",
    "    cdef np.ndarray img = np.zeros((512,512), dtype=np.float32)\n",
    "    \n",
    "    # Loop through images in cube\n",
    "    # Looping through all images in cube\n",
    "    for img in fits:\n",
    "\n",
    "        # Calculate 2D power spectrum\n",
    "        # This gives us only real values\n",
    "        psdImg = np.abs(np.fft.fft2(img))**2\n",
    "\n",
    "        # Accumulate current PSD value\n",
    "        psdAvg = np.add(psdAvg,psdImg)\n",
    "        \n",
    "    # Divide by # of images to calculate average\n",
    "    psdAvg = np.divide(psdAvg,1000)\n",
    "\n",
    "    # Normalizing FFT\n",
    "    psdAvg = np.divide(psdAvg, (psdAvg.size)**2)\n",
    "    \n",
    "    # Shifting FFT\n",
    "    psdAvg = np.fft.fftshift(psdAvg)\n",
    "    \n",
    "    return psdAvg\n"
   ]
  },
  {
   "cell_type": "code",
   "execution_count": null,
   "metadata": {
    "collapsed": false
   },
   "outputs": [],
   "source": [
    "%%timeit -n 1 -r 1\n",
    "binary.fits.read(numDimensions=3)\n",
    "# Run the test Cython function\n",
    "\n",
    "fitsData_32 = binary.fits.data.astype(np.float32)\n",
    "\n",
    "psdAvg = preprocess(fitsData_32)\n",
    "\n",
    "plt.figure()\n",
    "plt.imshow(np.log10(psdAvg+1E-3))\n",
    "plt.colorbar()\n"
   ]
  }
 ],
 "metadata": {
  "kernelspec": {
   "display_name": "Python 3",
   "language": "python",
   "name": "python3"
  },
  "language_info": {
   "codemirror_mode": {
    "name": "ipython",
    "version": 3
   },
   "file_extension": ".py",
   "mimetype": "text/x-python",
   "name": "python",
   "nbconvert_exporter": "python",
   "pygments_lexer": "ipython3",
   "version": "3.5.1"
  }
 },
 "nbformat": 4,
 "nbformat_minor": 0
}
