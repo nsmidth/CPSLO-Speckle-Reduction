{
 "cells": [
  {
   "cell_type": "markdown",
   "metadata": {},
   "source": [
    "# Cython Testing\n",
    "\n",
    "Testing compilation and running of cython module\n",
    "\n",
    "##Notes\n",
    "- Copied from labeyrieClasses : 48s\n",
    "- With all extra fluff and if statements removed: 47s\n",
    "- Casting to np.float32 instead of float: 22.9s\n",
    "- Casting entire 1000x512x512 fits cube to np.float32 takes 0.855s\n",
    "    - Casting entire 1000x512x512 fits cube to float takes 18.5s\n",
    "- No significant gain from casting the entire fits cube first (rather than image by image)"
   ]
  },
  {
   "cell_type": "code",
   "execution_count": null,
   "metadata": {
    "collapsed": false
   },
   "outputs": [],
   "source": [
    "import numpy as np\n",
    "import matplotlib.pyplot as plt\n",
    "from scipy.fftpack import fft2,ifft2,fftshift\n",
    "from labeyrieClasses import target\n",
    "\n",
    "%matplotlib inline\n",
    "%load_ext cython\n",
    "\n",
    "# Comparison of bare Python to Cython for preprocessing FITS data\n",
    "binary = target()\n",
    "binary.fits.fileName = \"/home/niels/Documents/FITS/KP330.fits\""
   ]
  },
  {
   "cell_type": "code",
   "execution_count": null,
   "metadata": {
    "collapsed": false,
    "scrolled": false
   },
   "outputs": [],
   "source": [
    "%%timeit -n 1 -r 1\n",
    "binary.fits.read(numDimensions=3)\n",
    "# Preprocess .FITS with Python, time it\n",
    "# Command copied from labeyrieClasses\n",
    "\n",
    "if (len(binary.fits.data.shape) == 3):\n",
    "    # Generate empty array the size of an image to be used to accumulate\n",
    "    #  PSD values before averaging.\n",
    "    psdSum = np.zeros(binary.fits.data.shape[1:3])\n",
    "\n",
    "    imgNum = np.shape(binary.fits.data)[0] # Number of images\n",
    "    imgIncrement = imgNum/20 # How often to display a status message\n",
    "\n",
    "    # Looping through all images in cube\n",
    "    for index,img in enumerate(binary.fits.data):\n",
    "\n",
    "        # Print current file being processed\n",
    "        if (((index+1) % imgIncrement) == 0):\n",
    "            print(\"Processed Image #: \",(index+1),\"/\",imgNum)\n",
    "\n",
    "        # FFT function requires little-endian data, so casting it\n",
    "        img = img.astype(float)\n",
    "\n",
    "        # Calculate 2D power spectrum\n",
    "        # This gives us only real values\n",
    "        psdImg = np.abs(fft2(img))**2\n",
    "\n",
    "        # Accumulate current PSD value\n",
    "        psdSum = np.add(psdSum,psdImg)\n",
    "\n",
    "    # Divide by # of images to calculate average\n",
    "    psdAvg = np.divide(psdSum,imgNum)\n",
    "\n",
    "    # Normalizing FFT\n",
    "    psdAvg = np.divide(psdAvg, (psdAvg.size)**2)\n",
    "\n",
    "#Otherwise if FITS data is only one image\n",
    "elif (len(binary.fits.shape) == 2):\n",
    "    # FFT function requires little-endian data, so casting it\n",
    "    img = binary.fits.astype(float)\n",
    "\n",
    "    # Calculate 2D power spectrum\n",
    "    # This gives us only real values\n",
    "    psdImg = np.abs(fft2(img))**2\n",
    "\n",
    "    # Normalizing FFT\n",
    "    psdAvg = np.divide(psdImg, (psdImg.size)**2)\n",
    "\n",
    "    binary.psd.data = fftshift(psdAvg)"
   ]
  },
  {
   "cell_type": "code",
   "execution_count": null,
   "metadata": {
    "collapsed": false
   },
   "outputs": [],
   "source": [
    "%%timeit -n 1 -r 1\n",
    "binary.fits.read(numDimensions=3)\n",
    "# Preprocess .FITS with Python, time it\n",
    "# Command copied from labeyrieClasses\n",
    "# Modified with all \"if\" statements removed\n",
    "\n",
    "psdSum = np.zeros(binary.fits.data.shape[1:3])\n",
    "\n",
    "imgNum = np.shape(binary.fits.data)[0] # Number of images\n",
    "imgIncrement = imgNum/20 # How often to display a status message\n",
    "\n",
    "# Looping through all images in cube\n",
    "for index,img in enumerate(binary.fits.data):\n",
    "\n",
    "    # FFT function requires little-endian data, so casting it\n",
    "    img = img.astype(float)\n",
    "\n",
    "    # Calculate 2D power spectrum\n",
    "    # This gives us only real values\n",
    "    psdImg = np.abs(fft2(img))**2\n",
    "\n",
    "    # Accumulate current PSD value\n",
    "    psdSum = np.add(psdSum,psdImg)\n",
    "\n",
    "# Divide by # of images to calculate average\n",
    "psdAvg = np.divide(psdSum,imgNum)\n",
    "\n",
    "# Normalizing FFT\n",
    "psdAvg = np.divide(psdAvg, (psdAvg.size)**2)"
   ]
  },
  {
   "cell_type": "code",
   "execution_count": null,
   "metadata": {
    "collapsed": false
   },
   "outputs": [],
   "source": [
    "%%timeit -n 1 -r 1\n",
    "binary.fits.read(numDimensions=3)\n",
    "# Preprocess .FITS with Python, time it\n",
    "# Command copied from labeyrieClasses\n",
    "# Modified with all \"if\" statements removed\n",
    "# Casting to np.float32 instead\n",
    "\n",
    "psdSum = np.zeros(binary.fits.data.shape[1:3])\n",
    "\n",
    "imgNum = np.shape(binary.fits.data)[0] # Number of images\n",
    "imgIncrement = imgNum/20 # How often to display a status message\n",
    "\n",
    "# Looping through all images in cube\n",
    "for index,img in enumerate(binary.fits.data):\n",
    "\n",
    "    # FFT function requires little-endian data, so casting it\n",
    "    img = img.astype(np.float32)\n",
    "\n",
    "    # Calculate 2D power spectrum\n",
    "    # This gives us only real values\n",
    "    psdImg = np.abs(fft2(img))**2\n",
    "\n",
    "    # Accumulate current PSD value\n",
    "    psdSum = np.add(psdSum,psdImg)\n",
    "\n",
    "# Divide by # of images to calculate average\n",
    "psdAvg = np.divide(psdSum,imgNum)\n",
    "\n",
    "# Normalizing FFT\n",
    "psdAvg = np.divide(psdAvg, (psdAvg.size)**2)"
   ]
  },
  {
   "cell_type": "code",
   "execution_count": null,
   "metadata": {
    "collapsed": false
   },
   "outputs": [],
   "source": [
    "# Checking difference in casting to different types\n",
    "%timeit test = binary.fits.data.astype(np.float32)\n",
    "%timeit test = binary.fits.data.astype(float)"
   ]
  },
  {
   "cell_type": "code",
   "execution_count": null,
   "metadata": {
    "collapsed": false
   },
   "outputs": [],
   "source": [
    "%%timeit -n 1 -r 1\n",
    "binary.fits.read(numDimensions=3)\n",
    "# Preprocess .FITS with Python, time it\n",
    "# Command copied from labeyrieClasses\n",
    "# Modified with all \"if\" statements removed\n",
    "# Trying to pre-cast the entire cube before the loop\n",
    "\n",
    "psdSum = np.zeros(binary.fits.data.shape[1:3])\n",
    "\n",
    "imgNum = np.shape(binary.fits.data)[0] # Number of images\n",
    "imgIncrement = imgNum/20 # How often to display a status message\n",
    "\n",
    "dataFloat32 = binary.fits.data.astype(np.float32)\n",
    "\n",
    "# Looping through all images in cube\n",
    "for index,img in enumerate(dataFloat32):\n",
    "\n",
    "    # Calculate 2D power spectrum\n",
    "    # This gives us only real values\n",
    "    psdImg = np.abs(fft2(img))**2\n",
    "\n",
    "    # Accumulate current PSD value\n",
    "    psdSum = np.add(psdSum,psdImg)\n",
    "\n",
    "# Divide by # of images to calculate average\n",
    "psdAvg = np.divide(psdSum,imgNum)\n",
    "\n",
    "# Normalizing FFT\n",
    "psdAvg = np.divide(psdAvg, (psdAvg.size)**2)\n",
    "\n",
    "# Shifting FFT\n",
    "psdAvg = np.fft.fftshift(psdAvg)\n",
    "\n",
    "plt.imshow(np.log10(psdAvg+1E-3))"
   ]
  },
  {
   "cell_type": "code",
   "execution_count": null,
   "metadata": {
    "collapsed": false
   },
   "outputs": [],
   "source": [
    "%%cython --annotate\n",
    "# A test cython module\n",
    "cimport numpy as np\n",
    "import numpy as np\n",
    "\n",
    "def takePSD(np.ndarray image):\n",
    "\n",
    "    cdef np.ndarray image_f32 = np.zeros([512,512], dtype=np.float32)\n",
    "    cdef np.ndarray psd = np.zeros([512,512], dtype=np.float32)\n",
    "\n",
    "    #print(\"Hello World\")\n",
    "    \n",
    "    # FFT function requires little-endian data, so casting it\n",
    "    image_f32 = image.astype(np.float32)\n",
    "\n",
    "    # Calculate 2D power spectrum\n",
    "    # This gives us only real values\n",
    "    psd = np.power(np.abs(np.fft.fft2(image_f32)),2)\n",
    "    \n",
    "    # Normalizing FFT\n",
    "    psd = np.divide(psd, (psd.size)**2)\n",
    "    \n",
    "    # Shifting FFT\n",
    "    psd = np.fft.fftshift(psd)\n",
    "\n",
    "    return psd\n",
    "    #return image_f32\n"
   ]
  },
  {
   "cell_type": "code",
   "execution_count": null,
   "metadata": {
    "collapsed": false
   },
   "outputs": [],
   "source": [
    "#%%timeit -n 1 -r 1\n",
    "binary.fits.read(numDimensions=3)\n",
    "# Run the test Cython function\n",
    "\n",
    "%timeit -n 100 -r 1 psd = takePSD(binary.fits.data[0])\n",
    "\n",
    "#plt.figure()\n",
    "#plt.imshow(binary.fits.data[0])\n",
    "\n",
    "#plt.figure()\n",
    "#plt.imshow(np.log10(psd+1E-3))\n",
    "#plt.colorbar()\n"
   ]
  },
  {
   "cell_type": "code",
   "execution_count": null,
   "metadata": {
    "collapsed": false
   },
   "outputs": [],
   "source": [
    "%%cython --annotate\n",
    "# Make a preprocess module in Cython\n",
    "cimport numpy as np\n",
    "import numpy as np\n",
    "\n",
    "def preprocess(np.ndarray fits):\n",
    "    # PSD of present image\n",
    "    cdef np.ndarray psdImg = np.zeros((512,512), dtype=np.float32)\n",
    "    # Accumulated PSD values\n",
    "    cdef np.ndarray psdAvg = np.zeros((512,512), dtype=np.float32)\n",
    "    # Accumulated PSD values\n",
    "    cdef np.ndarray img = np.zeros((512,512), dtype=np.float32)\n",
    "    \n",
    "    fitsData_32 = fits.astype(np.float32)\n",
    "    \n",
    "    # Loop through images in cube\n",
    "    # Looping through all images in cube\n",
    "    for img in fitsData_32:\n",
    "\n",
    "        # Calculate 2D power spectrum\n",
    "        # This gives us only real values\n",
    "        psdImg = np.abs(np.fft.fft2(img))**2\n",
    "\n",
    "        # Accumulate current PSD value\n",
    "        psdAvg = np.add(psdAvg,psdImg)\n",
    "        \n",
    "    # Divide by # of images to calculate average\n",
    "    psdAvg = np.divide(psdAvg,1000)\n",
    "\n",
    "    # Normalizing FFT\n",
    "    psdAvg = np.divide(psdAvg, (psdAvg.size)**2)\n",
    "    \n",
    "    # Shifting FFT\n",
    "    psdAvg = np.fft.fftshift(psdAvg)\n",
    "    \n",
    "    return psdAvg\n"
   ]
  },
  {
   "cell_type": "code",
   "execution_count": null,
   "metadata": {
    "collapsed": false
   },
   "outputs": [],
   "source": [
    "%%timeit -n 1 -r 1\n",
    "binary.fits.read(numDimensions=3)\n",
    "# Run the test Cython function\n",
    "psdAvg = preprocess(binary.fits.data)\n",
    "\n",
    "plt.figure()\n",
    "plt.imshow(np.log10(psdAvg+1E-3))\n",
    "plt.colorbar()\n"
   ]
  },
  {
   "cell_type": "code",
   "execution_count": null,
   "metadata": {
    "collapsed": false
   },
   "outputs": [],
   "source": [
    "%%timeit -n 1 -r 1\n",
    "binary.fits.read(numDimensions=3)\n",
    "# Calculate PSD with Cython function\n",
    "psdAvg = np.zeros((512,512),dtype=(np.float32))\n",
    "psdSum = np.zeros((512,512),dtype=(np.float32))\n",
    "\n",
    "# Looping through all images in cube\n",
    "for index,img in enumerate(binary.fits.data):\n",
    "\n",
    "    # Calculate 2D power spectrum\n",
    "    # This gives us only real values\n",
    "    psdImg = takePSD(img)\n",
    "\n",
    "    # Accumulate current PSD value\n",
    "    psdSum = np.add(psdSum,psdImg)\n",
    "\n",
    "# Divide by # of images to calculate average\n",
    "psdAvg = np.divide(psdSum,1000)\n",
    "\n",
    "# Normalizing FFT\n",
    "psdAvg = np.divide(psdAvg, (psdAvg.size)**2)\n",
    "\n",
    "# Shifting FFT\n",
    "psdAvg = np.fft.fftshift(psdAvg)\n",
    "\n",
    "plt.imshow(np.log10(psdAvg+1E-3))"
   ]
  },
  {
   "cell_type": "code",
   "execution_count": null,
   "metadata": {
    "collapsed": false
   },
   "outputs": [],
   "source": [
    "# We see that it is actually faster to not use numpy\n",
    "fits = binary.fits.data[0].astype(np.float32)\n",
    "%timeit psd = np.abs(fft2(fits))**2"
   ]
  },
  {
   "cell_type": "code",
   "execution_count": null,
   "metadata": {
    "collapsed": false
   },
   "outputs": [],
   "source": [
    "%%cython --annotate\n",
    "# Trying to not use numpy for the power of two factor\n",
    "cimport numpy as np\n",
    "import numpy as np\n",
    "\n",
    "def takePSD(np.ndarray image):\n",
    "\n",
    "    cdef np.ndarray psd = np.zeros([512,512], dtype=np.float32)\n",
    "\n",
    "    # Calculate 2D power spectrum\n",
    "    # This gives us only real values\n",
    "    psd = np.abs(np.fft.fft2(image))**2\n",
    "    return psd\n",
    "\n"
   ]
  },
  {
   "cell_type": "code",
   "execution_count": null,
   "metadata": {
    "collapsed": false
   },
   "outputs": [],
   "source": [
    "#%%timeit -n 1 -r 1\n",
    "binary.fits.read(numDimensions=3)\n",
    "# Run the test Cython function\n",
    "# This is still slower than non-cython\n",
    "\n",
    "fits = binary.fits.data[0].astype(np.float32)\n",
    "\n",
    "%timeit -n 100 -r 1 psd = takePSD(binary.fits.data[0])\n"
   ]
  },
  {
   "cell_type": "code",
   "execution_count": null,
   "metadata": {
    "collapsed": false
   },
   "outputs": [],
   "source": [
    "# We see that the PSD calculated is actually a float64, not a float32\n",
    "fits = binary.fits.data[0].astype(np.float32)\n",
    "\n",
    "fits_F = np.fft.fft2(fits)\n",
    "fits_Fabs = np.abs(fits_F)\n",
    "fits_PSD = fits_Fabs**2\n",
    "\n",
    "print(fits_F.dtype)\n",
    "print(fits_Fabs.dtype)\n",
    "print(fits_PSD.dtype)"
   ]
  },
  {
   "cell_type": "code",
   "execution_count": null,
   "metadata": {
    "collapsed": false
   },
   "outputs": [],
   "source": [
    "%%cython --annotate\n",
    "# Creating intermediate variables with each correct type\n",
    "cimport numpy as np\n",
    "import numpy as np\n",
    "\n",
    "def takePSD(np.ndarray image):\n",
    "    cdef np.ndarray image_F = np.zeros([512,512], dtype=np.complex128)\n",
    "    cdef np.ndarray image_Fabs = np.zeros([512,512], dtype=np.float64)\n",
    "    cdef np.ndarray psd = np.zeros([512,512], dtype=np.float64)\n",
    "\n",
    "    image_F = np.fft.fft2(image)\n",
    "    image_Fabs = np.abs(image_F)\n",
    "    psd = image_Fabs**2\n",
    "    \n",
    "    return psd"
   ]
  },
  {
   "cell_type": "code",
   "execution_count": null,
   "metadata": {
    "collapsed": false
   },
   "outputs": [],
   "source": [
    "#%%timeit -n 1 -r 1\n",
    "binary.fits.read(numDimensions=3)\n",
    "# Run the test Cython function\n",
    "# This is still slower than non-cython\n",
    "\n",
    "fits = binary.fits.data[0].astype(np.float32)\n",
    "\n",
    "%timeit -n 100 -r 1 psd = takePSD(fits)"
   ]
  },
  {
   "cell_type": "code",
   "execution_count": null,
   "metadata": {
    "collapsed": false
   },
   "outputs": [],
   "source": [
    "%%cython --annotate\n",
    "# Using the _t suffix on datatypes\n",
    "cimport numpy as np\n",
    "import numpy as np\n",
    "\n",
    "def takePSD(np.ndarray[np.float32_t, ndim=2] image):\n",
    "    cdef np.ndarray[np.complex128_t, ndim=2] image_F = np.zeros([512,512], dtype=np.complex128)\n",
    "    cdef np.ndarray[np.float64_t, ndim=2] image_Fabs = np.zeros([512,512], dtype=np.float64)\n",
    "    cdef np.ndarray[np.float64_t, ndim=2] psd = np.zeros([512,512], dtype=np.float64)\n",
    "\n",
    "    image_F = np.fft.fft2(image)\n",
    "    image_Fabs = np.abs(image_F)\n",
    "    psd = image_Fabs**2\n",
    "    \n",
    "    return psd"
   ]
  },
  {
   "cell_type": "code",
   "execution_count": null,
   "metadata": {
    "collapsed": false
   },
   "outputs": [],
   "source": [
    "#%%timeit -n 1 -r 1\n",
    "binary.fits.read(numDimensions=3)\n",
    "# Run the test Cython function\n",
    "# This is still slower than non-cython\n",
    "\n",
    "fits = binary.fits.data[0].astype(np.float32)\n",
    "\n",
    "%timeit -n 100 -r 1 psd = takePSD(fits)"
   ]
  },
  {
   "cell_type": "code",
   "execution_count": null,
   "metadata": {
    "collapsed": false
   },
   "outputs": [],
   "source": [
    "%%cython --annotate\n",
    "# Trying cpdef\n",
    "cimport numpy as np\n",
    "import numpy as np\n",
    "\n",
    "cpdef takePSD(np.ndarray[np.float32_t, ndim=2] image):\n",
    "    cdef np.ndarray[np.complex128_t, ndim=2] image_F = np.zeros([512,512], dtype=np.complex128)\n",
    "    cdef np.ndarray[np.float64_t, ndim=2] image_Fabs = np.zeros([512,512], dtype=np.float64)\n",
    "    cdef np.ndarray[np.float64_t, ndim=2] psd = np.zeros([512,512], dtype=np.float64)\n",
    "\n",
    "    image_F = np.fft.fft2(image)\n",
    "    image_Fabs = np.abs(image_F)\n",
    "    psd = image_Fabs**2\n",
    "    \n",
    "    return psd"
   ]
  },
  {
   "cell_type": "code",
   "execution_count": null,
   "metadata": {
    "collapsed": false
   },
   "outputs": [],
   "source": [
    "#%%timeit -n 1 -r 1\n",
    "binary.fits.read(numDimensions=3)\n",
    "# Run the test cpdef\n",
    "# This is still slower  nthanon-cython\n",
    "\n",
    "fits = binary.fits.data[0].astype(np.float32)\n",
    "\n",
    "%timeit -n 100 -r 1 psd = takePSD(fits)"
   ]
  },
  {
   "cell_type": "code",
   "execution_count": null,
   "metadata": {
    "collapsed": false
   },
   "outputs": [],
   "source": [
    "from scipy.fftpack import fft2\n",
    "import numpy as np\n",
    "\n",
    "#\n",
    "\n",
    "def psdAvgCalc(fits):\n",
    "    psdSum = np.zeros((512,512),dtype=np.float64)\n",
    "    psdImg = np.zeros((512,512),dtype=np.float64)\n",
    "    psdAvg = np.zeros((512,512),dtype=np.float64)           \n",
    "               \n",
    "    # Looping through all images in cube\n",
    "    for img in fits:\n",
    "\n",
    "        # FFT function requires little-endian data, so casting it\n",
    "        img = img.astype(np.float32)\n",
    "\n",
    "        # Calculate 2D power spectrum\n",
    "        # This gives us only real values\n",
    "        psdImg = np.abs(fft2(img))**2\n",
    "\n",
    "        # Accumulate current PSD value\n",
    "        psdSum = np.add(psdSum,psdImg)\n",
    "\n",
    "    # Divide by # of images to calculate average\n",
    "    psdAvg = np.divide(psdSum,1000)\n",
    "\n",
    "    # Normalizing FFT\n",
    "    psdAvg = np.divide(psdAvg, (psdAvg.size)**2)\n",
    "    \n",
    "    return psdAvg\n",
    "    "
   ]
  },
  {
   "cell_type": "code",
   "execution_count": null,
   "metadata": {
    "collapsed": false
   },
   "outputs": [],
   "source": [
    "%%timeit -n 1 -r 1\n",
    "binary.fits.read(numDimensions=3)\n",
    "# Experimenting with original preprocess \n",
    "#  code again\n",
    "psdAvg = psdAvgCalc(binary.fits.data) "
   ]
  }
 ],
 "metadata": {
  "kernelspec": {
   "display_name": "Python 3",
   "language": "python",
   "name": "python3"
  },
  "language_info": {
   "codemirror_mode": {
    "name": "ipython",
    "version": 3
   },
   "file_extension": ".py",
   "mimetype": "text/x-python",
   "name": "python",
   "nbconvert_exporter": "python",
   "pygments_lexer": "ipython3",
   "version": "3.5.1"
  }
 },
 "nbformat": 4,
 "nbformat_minor": 0
}
