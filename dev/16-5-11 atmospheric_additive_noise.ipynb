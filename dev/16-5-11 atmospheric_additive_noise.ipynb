{
 "cells": [
  {
   "cell_type": "code",
   "execution_count": null,
   "metadata": {
    "collapsed": true
   },
   "outputs": [],
   "source": [
    "# Includes\n",
    "import matplotlib.pyplot as plt\n",
    "import numpy as np\n",
    "from scipy.fftpack import fft2, ifft2, fftshift\n",
    "from scipy.signal import fftconvolve\n",
    "from scipy.signal import argrelextrema\n",
    "\n",
    "%matplotlib inline\n",
    "\n",
    "## Parameters\n",
    "# Image specs\n",
    "nxy = 512\n",
    "center = int(nxy/2)"
   ]
  },
  {
   "cell_type": "code",
   "execution_count": null,
   "metadata": {
    "collapsed": true
   },
   "outputs": [],
   "source": [
    "def atmos_sim():\n",
    "    # Aperture/Telescope Specifications:\n",
    "    diameter_m = 2.133 # Mirror diameter in meters\n",
    "    focal_length = 129.69 # Effective focal length in meters\n",
    "    wavelength = 0.8E-6 # Wavelength of light\n",
    "    pixel = 8E-6 # Dimension of a pixel\n",
    "    diameter_m = 2.133 # Telescope diameter in m\n",
    "\n",
    "    nxy = 512\n",
    "    center = int(nxy/2)\n",
    "\n",
    "    ## Creating Binary Star Input Image\n",
    "    # For KP 2.1m telescope, input image is in units of 25.44 milliarcseconds\n",
    "    platescale = 0.02544 # Plate scale in arcsec/pixel\n",
    "    rho = 1.5 # Set separation in arcseconds\n",
    "    phi = 45 # Set angle in degrees\n",
    "    # Calculate coordinates of stars\n",
    "    x = int( rho/(2*platescale) * np.cos(np.deg2rad(phi)) )\n",
    "    y = int( rho/(2*platescale) * np.sin(np.deg2rad(phi)) )\n",
    "    x1 = center + x\n",
    "    y1 = center + y\n",
    "    x2 = center - x\n",
    "    y2 = center - y    \n",
    "    # Empty input image\n",
    "    input_img = np.zeros((nxy,nxy)) \n",
    "    # Place stars on image\n",
    "    input_img[y1,x1] = 1 \n",
    "    input_img[y2,x2] = 1\n",
    "    # Scale image power to 1\n",
    "    input_img_power = np.sum(np.power(input_img,2))\n",
    "    input_img = np.divide(input_img,np.sqrt(input_img_power))\n",
    "\n",
    "    ## Telescope aperture creation:\n",
    "    # Total spatial sample range\n",
    "    X_aperture_s = 1/pixel \n",
    "    # dx value for sampled aperture image\n",
    "    dx_aperture_s = X_aperture_s/nxy \n",
    "    # Coordinates of sampled image\n",
    "    x_aperture_s = np.arange(0,X_aperture_s,dx_aperture_s) - X_aperture_s/2\n",
    "    # Meshgrid of sampled coordinates\n",
    "    xx_s,yy_s = np.meshgrid(x_aperture_s,x_aperture_s)\n",
    "    # Scaled aperture diameter to effectively resample aperture image\n",
    "    diameter_s = diameter_m/(focal_length*wavelength)\n",
    "    # Draw new circle at correct dimensions\n",
    "    # Calculate grid of distances from circle center\n",
    "    circle_s = (xx_s) ** 2 + (yy_s) ** 2 \n",
    "    # Draw boolean circle\n",
    "    circle_s = circle_s < (diameter_s/2)**2 \n",
    "    # Convert boolean circle to int\n",
    "    circle_s= circle_s.astype(np.int64)\n",
    "    # Save aperture image in units of meters\n",
    "    aperture_screen_s = circle_s\n",
    "    # Scale aperture image power to 1\n",
    "    aperture_screen_power = np.sum(np.power(aperture_screen_s,2))\n",
    "    aperture_screen_s = np.divide(aperture_screen_s,np.sqrt(aperture_screen_power))\n",
    "    # Calculate effective size of sampled aperture image in meters\n",
    "    X_aperture_s_meff = focal_length*wavelength/pixel\n",
    "    \n",
    "    ## Phase screen creation:\n",
    "    # Generate random image\n",
    "    # To be used in creating random atmospheric element\n",
    "    phase_phase = np.multiply(np.pi,np.random.normal(loc=0,scale=1,size=(nxy,nxy)))\n",
    "    # Total array sample size\n",
    "    d_aperture = X_aperture_s_meff\n",
    "    # Fried parameter [m]\n",
    "    r0 = 0.2\n",
    "    # Spatial sample resolution\n",
    "    dxy = d_aperture/nxy\n",
    "    # Spatial frequency resolution\n",
    "    df = 1/(d_aperture) \n",
    "    # Image sample indices array\n",
    "    x = np.multiply( np.subtract(np.arange(nxy),int(nxy/2)), dxy )\n",
    "    # Spatial Frequency indices array\n",
    "    xf = np.multiply( np.subtract(np.arange(nxy),int(nxy/2)), df )\n",
    "    # Meshgrid of spatial frequency domain\n",
    "    [xx,yy]=np.meshgrid(xf,xf)\n",
    "    # Radius from center meshgrid\n",
    "    rr = (np.sqrt(np.power(xx,2)+np.power(yy,2)))\n",
    "    # Calculate Kolmogorov spectral density\n",
    "    alpha = 1/100\n",
    "    phase_PSD = np.power(rr,-11/3)\n",
    "    phase_PSD = np.multiply(alpha*0.023/(r0**(5/3)),phase_PSD)\n",
    "    # Set DC component to 0 (previous calc attempts to set to 1/0)\n",
    "    phase_PSD[int(nxy/2),int(nxy/2)] = 0 \n",
    "    # Construct phase screen spectrum\n",
    "    phase_screen_f = np.multiply(np.sqrt(phase_PSD),np.exp(1j*phase_phase))\n",
    "    # Calculate phase screen\n",
    "    phase_screen = np.real(ifft2(fftshift(phase_screen_f)*nxy*nxy))\n",
    "    # Create complex atmospheric screen\n",
    "    atmosphere_screen = np.exp(np.multiply(1j,phase_screen))\n",
    "\n",
    "    # Generate total screen, combining atmosphere and aperture\n",
    "    pupil_screen = np.multiply(atmosphere_screen,aperture_screen_s)\n",
    "\n",
    "    ## Calculate system's total response \n",
    "    # Calculate total PSF of system\n",
    "    psf = fftshift(fft2(pupil_screen))\n",
    "    psf = np.power(np.abs(psf),2)\n",
    "    # Normalize PSF\n",
    "    psf_power = np.sum(np.power(psf,2))\n",
    "    psf = np.divide(psf,psf_power)\n",
    "    # Gamma correct PSF\n",
    "    gamma = 1.6\n",
    "    psf = np.power(psf,1/gamma)  \n",
    "    # Convolve PSF with input image using FFT\n",
    "    sensor_img = fftconvolve(input_img,psf)\n",
    "    # Save the center 512x512 image\n",
    "    sensor_img = sensor_img[center:center+nxy,center:center+nxy]\n",
    "    \n",
    "    return (psf, sensor_img)"
   ]
  },
  {
   "cell_type": "code",
   "execution_count": null,
   "metadata": {
    "collapsed": false
   },
   "outputs": [],
   "source": [
    "## Adding noise to images\n",
    "def add_gaus_noise(img, var):\n",
    "    # Size of input image?\n",
    "    nxy = np.shape(img)[0]\n",
    "    \n",
    "    # Array to be returned\n",
    "    img_noisy = np.zeros((nxy,nxy))    \n",
    "    \n",
    "    # Create noise image\n",
    "    noise = np.random.normal(loc=0,scale=var,size=(nxy,nxy))\n",
    "    # Add noise image to simulated image\n",
    "    img_noisy = img+noise\n",
    "    # Turn all negative pixels to 0\n",
    "    img_noisy[img_noisy<0] = 0\n",
    "    \n",
    "    # Return noisy image\n",
    "    return img_noisy"
   ]
  },
  {
   "cell_type": "code",
   "execution_count": null,
   "metadata": {
    "collapsed": true
   },
   "outputs": [],
   "source": [
    "def add_shot_noise(img, photons):\n",
    "    # Size of input image?\n",
    "    nxy = np.shape(img)[0]    \n",
    "    \n",
    "    # Empty arrays to use\n",
    "    img_normalized = np.zeros((nxy,nxy))\n",
    "    img_scaled = np.zeros((nxy,nxy))\n",
    "    img_shot_noise = np.zeros((nxy,nxy))\n",
    "    \n",
    "    # Normalize input image\n",
    "    img_normalized = np.abs(img)/(np.sum(img))\n",
    "    # Scale image to number of photons desired\n",
    "    img_scaled = img_normalized*photons\n",
    "    # Calculate image with shot noise\n",
    "    img_shot_noise = np.random.poisson(lam=img_scaled, size=None)\n",
    "\n",
    "    # Return noisy image\n",
    "    return img_shot_noise"
   ]
  },
  {
   "cell_type": "code",
   "execution_count": null,
   "metadata": {
    "collapsed": false
   },
   "outputs": [],
   "source": [
    "# Creating empty arrays for simulated data\n",
    "nxy = 512\n",
    "img = np.zeros((nxy,nxy))\n",
    "img_noise1 = np.zeros((nxy,nxy))\n",
    "img_noise2 = np.zeros((nxy,nxy))\n",
    "img_noise3 = np.zeros((nxy,nxy))\n",
    "\n",
    "binary_img = np.zeros((nxy,nxy))\n",
    "\n",
    "# Calculate simulated binary/reference images\n",
    "(img, binary_img) = atmos_sim()\n"
   ]
  },
  {
   "cell_type": "code",
   "execution_count": null,
   "metadata": {
    "collapsed": false
   },
   "outputs": [],
   "source": [
    "## Adding noise to images\n",
    "shot_photons = 100000\n",
    "gaus_var = 5E-4\n",
    "img_noise1 = add_shot_noise(img, photons=100000)\n",
    "img_noise2 = add_gaus_noise(img, var=5E-5)\n",
    "img_noise3 = add_gaus_noise(img_noise1,1)\n",
    "\n",
    "# Display figures\n",
    "plt.figure(figsize=(24,8))\n",
    "plt.subplot(1,3,1)\n",
    "plt.title(\"Noiseless Image\")\n",
    "plt.imshow(img)\n",
    "\n",
    "plt.subplot(1,3,2)\n",
    "plt.title(\"Shot Noisy Image\")\n",
    "plt.imshow(img_noise1)\n",
    "\n",
    "plt.subplot(1,3,3)\n",
    "plt.title(\"Read Noisy Image\")\n",
    "plt.imshow(img_noise2)\n",
    "\n",
    "plt.figure(figsize=(10,10))\n",
    "plt.title(\"Both Noise Sources\")\n",
    "plt.imshow(img_noise3)"
   ]
  },
  {
   "cell_type": "code",
   "execution_count": null,
   "metadata": {
    "collapsed": true
   },
   "outputs": [],
   "source": [
    "# Calculate PSD of noisy images\n",
    "psd_img = fftshift(np.abs(fft2(img))**2)\n",
    "psd_noise3 = fftshift(np.abs(fft2(img_noise3))**2)"
   ]
  },
  {
   "cell_type": "code",
   "execution_count": null,
   "metadata": {
    "collapsed": false
   },
   "outputs": [],
   "source": [
    "# Display reference and binary PSDs\n",
    "plt.figure(figsize=(16,8))\n",
    "plt.subplot(1,2,1)\n",
    "plt.imshow(np.log10(psd_img))\n",
    "plt.title(\"Noiseless PSD\")\n",
    "plt.subplot(1,2,2)\n",
    "plt.imshow(np.log10(psd_noise3))\n",
    "plt.title(\"Noisy PSD\")"
   ]
  }
 ],
 "metadata": {
  "kernelspec": {
   "display_name": "Python 3",
   "language": "python",
   "name": "python3"
  },
  "language_info": {
   "codemirror_mode": {
    "name": "ipython",
    "version": 3
   },
   "file_extension": ".py",
   "mimetype": "text/x-python",
   "name": "python",
   "nbconvert_exporter": "python",
   "pygments_lexer": "ipython3",
   "version": "3.5.1"
  }
 },
 "nbformat": 4,
 "nbformat_minor": 0
}
