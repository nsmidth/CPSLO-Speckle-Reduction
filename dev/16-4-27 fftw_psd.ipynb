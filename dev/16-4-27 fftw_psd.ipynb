{
 "cells": [
  {
   "cell_type": "code",
   "execution_count": null,
   "metadata": {
    "collapsed": true
   },
   "outputs": [],
   "source": [
    "from labeyrieClasses import target #, fftw_psd\n",
    "import numpy as np\n",
    "import matplotlib.pyplot as plt\n",
    "import ctypes\n",
    "\n",
    "%matplotlib inline"
   ]
  },
  {
   "cell_type": "code",
   "execution_count": null,
   "metadata": {
    "collapsed": false
   },
   "outputs": [],
   "source": [
    "# Import fits data\n",
    "binary = target()\n",
    "binary.fits.fileName = \"/home/niels/Documents/FITS/KP330.fits\"\n",
    "binary.fits.read(numDimensions = 3)\n",
    "\n",
    "# Import shared C library\n",
    "fftw_psd_dll = ctypes.CDLL('/home/niels/Dropbox/Thesis/Python/dev/fftw_psd.so')\n",
    "\n",
    "# Image sizing parameters\n",
    "imgsize = 512\n",
    "psd_n = imgsize*(int(imgsize/2)+1)\n",
    "img_n = imgsize**2"
   ]
  },
  {
   "cell_type": "code",
   "execution_count": null,
   "metadata": {
    "collapsed": true
   },
   "outputs": [],
   "source": [
    "# FFTW PSD Function Declaration\n",
    "def fftw_psd(input_img):\n",
    "    # Reshape Square array to be flat\n",
    "    input_img_flat = np.reshape(input_img.astype(np.float32),(imgsize**2,1))\n",
    "\n",
    "    # Create pointers for in/out\n",
    "    img_ptr = (input_img_flat).ctypes.data_as(ctypes.POINTER(ctypes.c_float))\n",
    "    out_ptr = (np.zeros(img_n,np.float32)).ctypes.data_as(ctypes.POINTER(ctypes.c_float))\n",
    "    # Array type to be passed to wrapped C function\n",
    "    # Set input argument to be flat array of doubles (# of input img pixels)\n",
    "    fftw_psd_dll.psd.argtypes = [ctypes.POINTER(ctypes.c_float)]\n",
    "    fftw_psd_dll.psd.restype = ctypes.POINTER(ctypes.c_float * psd_n)\n",
    "\n",
    "    # Calculate PSD, get a pointer returned\n",
    "    out_ptr = fftw_psd_dll.psd(img_ptr)\n",
    "\n",
    "    # Reshape array to image\n",
    "    psd_image = np.reshape(out_ptr.contents,(imgsize,int(imgsize/2+1)))\n",
    "    \n",
    "    # Return PSD Image\n",
    "    return psd_image"
   ]
  },
  {
   "cell_type": "code",
   "execution_count": null,
   "metadata": {
    "collapsed": false
   },
   "outputs": [],
   "source": [
    "# Calculate Average using NP and FFTW function\n",
    "fftw_psd_img = np.zeros((imgsize,int(imgsize/2+1)))\n",
    "np_psd_img = np.zeros((imgsize,imgsize))\n",
    "\n",
    "for image in binary.fits.data:\n",
    "    #plt.imshow(image)\n",
    "    fftw_psd_img += fftw_psd(image)\n",
    "    np_psd_img += (np.abs(np.fft.fft2(image))**2)"
   ]
  },
  {
   "cell_type": "code",
   "execution_count": null,
   "metadata": {
    "collapsed": false
   },
   "outputs": [],
   "source": [
    "# Compare PSD images from both FFTW and NP\n",
    "np_psd_img_shifted = np.fft.fftshift(np_psd_img)\n",
    "\n",
    "plt.figure(figsize=(20,10))\n",
    "plt.subplot(1,2,1)\n",
    "plt.imshow(np.log10(fftw_psd_img))\n",
    "plt.title(\"fftw PSD\")\n",
    "plt.subplot(1,2,2)\n",
    "plt.imshow(np.log10(np_psd_img_shifted))\n",
    "plt.title(\"numpy fft psd\")"
   ]
  },
  {
   "cell_type": "code",
   "execution_count": null,
   "metadata": {
    "collapsed": false
   },
   "outputs": [],
   "source": [
    "# Looking for symmetry in PSD images\n",
    "indices = ((0,0), (1,1), (511,511), (510,510))\n",
    "\n",
    "for index in indices:\n",
    "    print(\"index = \", index, \" \\t np_psd_img = \", np_psd_img[index], \"\\t np_psd_img_shifted = \", np_psd_img_shifted[index])\n",
    "    \n",
    "# We see symmetry at (1,1) and (511,511)"
   ]
  },
  {
   "cell_type": "code",
   "execution_count": null,
   "metadata": {
    "collapsed": false
   },
   "outputs": [],
   "source": [
    "# Looking for FFTshift pattern\n",
    "indices = ((256,256), (255,255), (257,257))\n",
    "\n",
    "for index in indices:\n",
    "    print(\"Index[\", index, \"] = \", np_psd_img_shifted[index])"
   ]
  },
  {
   "cell_type": "code",
   "execution_count": null,
   "metadata": {
    "collapsed": false
   },
   "outputs": [],
   "source": [
    "imgsize = 8\n",
    "fftw_psd_img_complete = np.zeros((imgsize,imgsize))\n",
    "\n",
    "xx,yy = np.meshgrid(np.arange(imgsize),np.arange(imgsize))\n",
    "xx = np.subtract(xx,int(imgsize/2))\n",
    "\n",
    "print(xx)\n",
    "print(yy)"
   ]
  }
 ],
 "metadata": {
  "kernelspec": {
   "display_name": "Python 3",
   "language": "python",
   "name": "python3"
  },
  "language_info": {
   "codemirror_mode": {
    "name": "ipython",
    "version": 3
   },
   "file_extension": ".py",
   "mimetype": "text/x-python",
   "name": "python",
   "nbconvert_exporter": "python",
   "pygments_lexer": "ipython3",
   "version": "3.5.1"
  }
 },
 "nbformat": 4,
 "nbformat_minor": 0
}
