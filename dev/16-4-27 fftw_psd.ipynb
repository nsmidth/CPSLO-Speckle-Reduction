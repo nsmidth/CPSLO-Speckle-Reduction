{
 "cells": [
  {
   "cell_type": "code",
   "execution_count": null,
   "metadata": {
    "collapsed": true
   },
   "outputs": [],
   "source": [
    "from labeyrieClasses import target #, fftw_psd\n",
    "import numpy as np\n",
    "import matplotlib.pyplot as plt\n",
    "import ctypes\n",
    "\n",
    "\n",
    "%matplotlib inline"
   ]
  },
  {
   "cell_type": "code",
   "execution_count": null,
   "metadata": {
    "collapsed": false
   },
   "outputs": [],
   "source": [
    "# Import fits data\n",
    "binary = target()\n",
    "binary.fits.fileName = \"/home/niels/Documents/FITS/KP330.fits\"\n",
    "binary.fits.read(numDimensions = 3)\n",
    "\n",
    "# Import shared C library\n",
    "fftw_psd_dll = ctypes.CDLL('/home/niels/Dropbox/Thesis/Python/dev/fftw_psd.so')\n",
    "\n",
    "# Image sizing parameters\n",
    "imgsize = 512\n",
    "psd_n = imgsize*(int(imgsize/2)+1)\n",
    "img_n = imgsize**2"
   ]
  },
  {
   "cell_type": "code",
   "execution_count": null,
   "metadata": {
    "collapsed": true
   },
   "outputs": [],
   "source": [
    "# FFTW PSD Function Declaration\n",
    "def fftw_psd(input_img):\n",
    "    # Reshape Square array to be flat\n",
    "    input_img_flat = np.reshape(input_img.astype(np.float32),(imgsize**2,1))\n",
    "\n",
    "    # Create pointers for in/out\n",
    "    img_ptr = (input_img_flat).ctypes.data_as(ctypes.POINTER(ctypes.c_float))\n",
    "    out_ptr = (np.zeros(img_n,np.float32)).ctypes.data_as(ctypes.POINTER(ctypes.c_float))\n",
    "    # Array type to be passed to wrapped C function\n",
    "    # Set input argument to be flat array of doubles (# of input img pixels)\n",
    "    fftw_psd_dll.psd.argtypes = [ctypes.POINTER(ctypes.c_float)]\n",
    "    fftw_psd_dll.psd.restype = ctypes.POINTER(ctypes.c_float * psd_n)\n",
    "\n",
    "    # Calculate PSD, get a pointer returned\n",
    "    out_ptr = fftw_psd_dll.psd(img_ptr)\n",
    "\n",
    "    # Reshape array to image\n",
    "    psd_image = np.reshape(out_ptr.contents,(imgsize,int(imgsize/2+1)))\n",
    "    \n",
    "    # Return PSD Image\n",
    "    return psd_image"
   ]
  },
  {
   "cell_type": "code",
   "execution_count": null,
   "metadata": {
    "collapsed": false
   },
   "outputs": [],
   "source": [
    "# Calculate Average using NP and FFTW function\n",
    "fftw_psd_img = np.zeros((imgsize,int(imgsize/2+1)))\n",
    "np_psd_img = np.zeros((imgsize,imgsize))\n",
    "\n",
    "for image in binary.fits.data:\n",
    "    #plt.imshow(image)\n",
    "    fftw_psd_img += fftw_psd(image)\n",
    "    np_psd_img += (np.abs(np.fft.fft2(image))**2)"
   ]
  },
  {
   "cell_type": "code",
   "execution_count": null,
   "metadata": {
    "collapsed": false
   },
   "outputs": [],
   "source": [
    "# Compare PSD images from both FFTW and NP\n",
    "np_psd_img_shifted = np.fft.fftshift(np_psd_img)\n",
    "\n",
    "plt.figure(figsize=(20,10))\n",
    "plt.subplot(1,2,1)\n",
    "plt.imshow(np.log10(fftw_psd_img))\n",
    "plt.title(\"fftw PSD\")\n",
    "plt.subplot(1,2,2)\n",
    "plt.imshow(np.log10(np_psd_img))\n",
    "plt.title(\"numpy fft psd\")\n",
    "\n",
    "plt.figure(figsize=(10,10))\n",
    "plt.imshow(np.log10(np_psd_img_shifted))"
   ]
  },
  {
   "cell_type": "code",
   "execution_count": null,
   "metadata": {
    "collapsed": false
   },
   "outputs": [],
   "source": [
    "# Looking for symmetry in PSD images\n",
    "indices = ((0,0), \n",
    "           (1,1), \n",
    "           (511,511), \n",
    "           (2,2),\n",
    "           (510,510),\n",
    "           (1,2),\n",
    "           (512-1,512-2),\n",
    "           (257,0),\n",
    "           (255,0))\n",
    "\n",
    "print(\"\\n Showing example values\")\n",
    "for index in indices:\n",
    "    print(\"index = \", index, \" \\t np_psd_img = \", np_psd_img[index])\n",
    "    \n",
    "\n",
    "print(\"\\n Showing symmetry along first column\")\n",
    "for i in np.arange(5):\n",
    "    print(\"np_psd_img[\", 256+i, \",0 ] = \", np_psd_img[256+i,0], \n",
    "          \"np_psd_img[\", 256-i, \",0 ] = \", np_psd_img[256-i,0])\n",
    "    print(\"Difference = \", np_psd_img[256+i,0]-np_psd_img[256-i,0] )\n",
    "    \n",
    "    \n",
    "print(\"\\n Showing symmetry along first row\")\n",
    "for i in np.arange(5):\n",
    "    print(\"np_psd_img[ 0,\", 256+i, \"] = \", np_psd_img[0,256+i], \n",
    "          \"np_psd_img[ 0,\", 256-i, \"] = \", np_psd_img[0,256-i])\n",
    "    print(\"Difference = \", np_psd_img[0,256+i]-np_psd_img[0,256-i] )    \n",
    "\n",
    "# We see symmetry at (1,1) and (511,511)\n",
    "\n",
    "print(\"\\n Show extreme values transposition loop will index through\")\n",
    "y_range = np.arange(1,imgsize)\n",
    "x_range = np.arange(int(imgsize/2)+1,imgsize)\n",
    "print(\"Y Max = \", y_range.max(), \", Y Min = \", y_range.min())\n",
    "print(\"X Max = \", x_range.max(), \", X Min = \", x_range.min())\n"
   ]
  },
  {
   "cell_type": "code",
   "execution_count": null,
   "metadata": {
    "collapsed": false
   },
   "outputs": [],
   "source": [
    "\n",
    "print(\"Test Transposing Algorithm\")\n",
    "(y_destination,x_destination) = (257,257)\n",
    "(y_source,x_source) = (imgsize-y_destination,imgsize-x_destination)\n",
    "\n",
    "print(\"Destination: \", y_destination,x_destination)\n",
    "print(\"Source: \", y_source,x_source)\n",
    "print(\"Difference = \", np_psd_img[y_destination,x_destination] - np_psd_img[y_source,x_source])"
   ]
  },
  {
   "cell_type": "markdown",
   "metadata": {
    "collapsed": false
   },
   "source": [
    "From : http://www.fftw.org/doc/Multi_002ddimensional-Transforms.html\n",
    "\n",
    "\n",
    "Y[k0, k1, ..., kd-1] = Y[n0 - k0, n1 - k1, ..., nd-1 - kd-1]*"
   ]
  },
  {
   "cell_type": "code",
   "execution_count": null,
   "metadata": {
    "collapsed": false,
    "scrolled": false
   },
   "outputs": [],
   "source": [
    "def transpose_fftw_psd(fftw_psd_img):\n",
    "    # Calculate Image Dimensions\n",
    "    imgsize = np.shape(fftw_psd_img)[0]\n",
    "    # Create a padded version of original image\n",
    "    fftw_psd_img_padded = np.lib.pad(fftw_psd_img, ((0, 0), (0, int(imgsize/2-1))), 'constant')\n",
    "\n",
    "    # Loop through first row\n",
    "    y = 0\n",
    "    y_source = 0\n",
    "    for x in x_range:\n",
    "        x_source = imgsize-x\n",
    "        fftw_psd_img_padded[y,x] = fftw_psd_img_padded[y_source,x_source]    \n",
    "    \n",
    "    # Loop through rest of image\n",
    "    for y in np.arange(1,imgsize):\n",
    "        for x in np.arange(int(imgsize/2)+1,imgsize):\n",
    "            y_source = imgsize-y\n",
    "            x_source = imgsize-x\n",
    "            fftw_psd_img_padded[y,x] = fftw_psd_img_padded[y_source,x_source]\n",
    "\n",
    "    return fftw_psd_img_padded"
   ]
  },
  {
   "cell_type": "code",
   "execution_count": null,
   "metadata": {
    "collapsed": false
   },
   "outputs": [],
   "source": [
    "fftw_psd_img_padded = transpose_fftw_psd(fftw_psd_img)\n",
    "\n",
    "acorr_np = np.real(np.fft.fftshift(np.fft.ifft2(np_psd_img)))\n",
    "acorr_fftw = np.real(np.fft.fftshift(np.fft.ifft2(fftw_psd_img_padded)))\n",
    "\n",
    "plt.figure(figsize = (20,10))\n",
    "plt.subplot(1,2,1)\n",
    "plt.imshow(np.log10(np.fft.fftshift(np_psd_img)))\n",
    "plt.title(\"Numpy PSD\")\n",
    "plt.subplot(1,2,2)\n",
    "plt.imshow(np.log10(np.fft.fftshift(fftw_psd_img_padded)))\n",
    "plt.title(\"Shifted FFTW PSD\")\n",
    "\n",
    "plt.figure(figsize = (20,10))\n",
    "plt.subplot(1,2,1)\n",
    "plt.imshow(acorr_np)\n",
    "plt.title(\"Numpy Acorr\")\n",
    "plt.subplot(1,2,2)\n",
    "plt.imshow(acorr_fftw)\n",
    "plt.title(\"Shifted FFTW Acorr\")"
   ]
  }
 ],
 "metadata": {
  "kernelspec": {
   "display_name": "Python 3",
   "language": "python",
   "name": "python3"
  },
  "language_info": {
   "codemirror_mode": {
    "name": "ipython",
    "version": 3
   },
   "file_extension": ".py",
   "mimetype": "text/x-python",
   "name": "python",
   "nbconvert_exporter": "python",
   "pygments_lexer": "ipython3",
   "version": "3.5.1"
  }
 },
 "nbformat": 4,
 "nbformat_minor": 0
}
