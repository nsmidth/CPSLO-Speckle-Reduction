{
 "cells": [
  {
   "cell_type": "code",
   "execution_count": null,
   "metadata": {
    "collapsed": false
   },
   "outputs": [],
   "source": [
    "import sys, os\n",
    "sys.path.append('/home/niels/Dropbox/Thesis/Python/')\n",
    "from classes_labeyrie import target,deconvolved\n",
    "import tkinter as tk\n",
    "from tkinter import filedialog\n",
    "import matplotlib.pyplot as plt\n",
    "import numpy as np\n",
    "from scipy.fftpack import fft2, ifft2, fftshift\n",
    "\n",
    "%matplotlib inline"
   ]
  },
  {
   "cell_type": "code",
   "execution_count": null,
   "metadata": {
    "collapsed": false
   },
   "outputs": [],
   "source": [
    "binary = target()\n",
    "reference = target()\n",
    "deconv = deconvolved()\n",
    "\n",
    "# Define filenames for each target\n",
    "binary.fits.fileName = \"/home/niels/Documents/FITS/KP330.fits\"\n",
    "reference.fits.fileName = \"/home/niels/Documents/FITS/KP331.fits\"\n",
    "\n",
    "# Import each target\n",
    "binary.fits.read(numDimensions=3,printInfo=False)\n",
    "reference.fits.read(numDimensions=3,printInfo=False)\n",
    "\n",
    "# Calculate PSD of each target\n",
    "binary.psdCalc()\n",
    "print(\"Binary PSD Calc Complete\")\n",
    "reference.psdCalc()\n",
    "print(\"Reference PSD Calc Complete\")"
   ]
  },
  {
   "cell_type": "code",
   "execution_count": null,
   "metadata": {
    "collapsed": false
   },
   "outputs": [],
   "source": [
    "## Deconvolve reference and binary stars with different methods\n",
    "nxy = 512\n",
    "center = int(nxy/2)\n",
    "\n",
    "# Assign wiener variables\n",
    "H = reference.psd.data\n",
    "G = binary.psd.data\n",
    "\n",
    "# Inverse filtering deconvolution\n",
    "F_hat_inverse = G/H\n",
    "f_hat_inverse = fftshift(np.abs(ifft2(F_hat_inverse)))\n",
    "\n",
    "# Simplified Wiener filtering\n",
    "k = 1E-5\n",
    "F_hat_wiener1 = G*(1/H)*((H**2)/(H**2+k))\n",
    "f_hat_wiener1 = fftshift(np.abs(ifft2(F_hat_wiener1)))\n",
    "\n",
    "plt.figure()\n",
    "plt.imshow(((H**2)/(H**2+k)))\n",
    "\n",
    "# Wiener filtering with LPF for Signal PSD\n",
    "radius = 30\n",
    "k = 1E-7\n",
    "# Create centered meshgrid of image\n",
    "xx,yy = np.meshgrid(np.arange(nxy),np.arange(nxy))\n",
    "xx = np.subtract(xx,center)\n",
    "yy = np.subtract(yy,center)\n",
    "rr = np.power(np.power(xx,2)+np.power(yy,2),0.5)\n",
    "# Create LPF filter image\n",
    "lpf = np.exp(-(np.power(rr,2)/(2*np.power(radius,2))))\n",
    "\n",
    "F_hat_wiener2 = G*(1/H)*((H**2)/(H**2+k/lpf))\n",
    "f_hat_wiener2 = fftshift(np.abs(ifft2(F_hat_wiener2)))\n",
    "\n",
    "plt.figure()\n",
    "plt.imshow(((H**2)/(H**2+k/lpf)))"
   ]
  },
  {
   "cell_type": "code",
   "execution_count": null,
   "metadata": {
    "collapsed": false
   },
   "outputs": [],
   "source": [
    "colormap = \"jet\"\n",
    "\n",
    "plt.figure(figsize = (16,16), dpi = 100)\n",
    "plt.subplot(2,2,1)\n",
    "plt.imshow(binary.fits.data[10], cmap=colormap)\n",
    "plt.title(\"Binary Star Image\")\n",
    "plt.subplot(2,2,2)\n",
    "plt.imshow(reference.fits.data[0], cmap=colormap)\n",
    "plt.title(\"Reference Star Image\")\n",
    "plt.subplot(2,2,3)\n",
    "plt.imshow(np.log10(G), cmap=colormap)\n",
    "plt.title(\"Binary Star PSD\")\n",
    "plt.subplot(2,2,4)\n",
    "plt.imshow(np.log10(H), cmap=colormap)\n",
    "plt.title(\"Reference Star PSD\")\n",
    "\n",
    "plt.figure(figsize = (12,6), dpi = 100)\n",
    "plt.subplot(1,2,1)\n",
    "plt.imshow(np.log10(F_hat_wiener1), cmap=colormap)\n",
    "plt.title(\"Deconvolved PSD\")\n",
    "plt.subplot(1,2,2)\n",
    "plt.imshow(f_hat_wiener1, cmap=colormap)\n",
    "plt.title(\"Deconvolved Acorr\")\n",
    "\n",
    "plt.figure(figsize = (12,6), dpi = 100)\n",
    "plt.subplot(1,2,1)\n",
    "plt.imshow(F_hat_wiener2, cmap=colormap)\n",
    "plt.title(\"Deconvolved PSD\")\n",
    "plt.subplot(1,2,2)\n",
    "plt.imshow(f_hat_wiener2, cmap=colormap)\n",
    "plt.title(\"Deconvolved Acorr\")\n"
   ]
  }
 ],
 "metadata": {
  "kernelspec": {
   "display_name": "Python 3",
   "language": "python",
   "name": "python3"
  },
  "language_info": {
   "codemirror_mode": {
    "name": "ipython",
    "version": 3
   },
   "file_extension": ".py",
   "mimetype": "text/x-python",
   "name": "python",
   "nbconvert_exporter": "python",
   "pygments_lexer": "ipython3",
   "version": "3.5.1"
  }
 },
 "nbformat": 4,
 "nbformat_minor": 0
}
