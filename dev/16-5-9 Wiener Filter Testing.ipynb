{
 "cells": [
  {
   "cell_type": "code",
   "execution_count": null,
   "metadata": {
    "collapsed": true
   },
   "outputs": [],
   "source": [
    "# Includes\n",
    "import numpy as np\n",
    "import matplotlib.pyplot as plt\n",
    "from scipy.fftpack import fft2,ifft2,fftshift\n",
    "from scipy.signal import fftconvolve\n",
    "\n",
    "%matplotlib inline"
   ]
  },
  {
   "cell_type": "markdown",
   "metadata": {},
   "source": [
    "$ \\mbox{Estimated Original Image} = \\hat{F}(u,v)$ \n",
    "\n",
    "$ \\mbox{Original Image} = F(u,v)$\n",
    "\n",
    "$ \\mbox{Noise PSD} = S_{n}(u,v)$\n",
    "\n",
    "$ \\mbox{Original Image PSD} = S_{f}(u,v)$\n",
    "\n",
    "$ \\mbox{Captured Image} = G(u,v) $\n",
    "\n",
    "$ \\mbox{Degradation Function} = H(u,v) $"
   ]
  },
  {
   "cell_type": "code",
   "execution_count": null,
   "metadata": {
    "collapsed": false
   },
   "outputs": [],
   "source": [
    "def atmos_sim():\n",
    "    # Aperture/Telescope Specifications:\n",
    "    diameter_m = 2.133 # Mirror diameter in meters\n",
    "    focal_length = 129.69 # Effective focal length in meters\n",
    "    wavelength = 0.8E-6 # Wavelength of light\n",
    "    pixel = 8E-6 # Dimension of a pixel\n",
    "    diameter_m = 2.133 # Telescope diameter in m\n",
    "\n",
    "    nxy = 512\n",
    "    center = int(nxy/2)\n",
    "\n",
    "    ## Creating Binary Star Input Image\n",
    "    # For KP 2.1m telescope, input image is in units of 25.44 milliarcseconds\n",
    "    platescale = 0.02544 # Plate scale in arcsec/pixel\n",
    "    rho = 1.5 # Set separation in arcseconds\n",
    "    phi = 45 # Set angle in degrees\n",
    "    # Calculate coordinates of stars\n",
    "    x = int( rho/(2*platescale) * np.cos(np.deg2rad(phi)) )\n",
    "    y = int( rho/(2*platescale) * np.sin(np.deg2rad(phi)) )\n",
    "    x1 = center + x\n",
    "    y1 = center + y\n",
    "    x2 = center - x\n",
    "    y2 = center - y    \n",
    "    # Empty input image\n",
    "    input_img = np.zeros((nxy,nxy)) \n",
    "    # Place stars on image\n",
    "    input_img[y1,x1] = 1 \n",
    "    input_img[y2,x2] = 1\n",
    "    # Scale image power to 1\n",
    "    input_img_power = np.sum(np.power(input_img,2))\n",
    "    input_img = np.divide(input_img,np.sqrt(input_img_power))\n",
    "\n",
    "    ## Telescope aperture creation:\n",
    "    # Total spatial sample range\n",
    "    X_aperture_s = 1/pixel \n",
    "    # dx value for sampled aperture image\n",
    "    dx_aperture_s = X_aperture_s/nxy \n",
    "    # Coordinates of sampled image\n",
    "    x_aperture_s = np.arange(0,X_aperture_s,dx_aperture_s) - X_aperture_s/2\n",
    "    # Meshgrid of sampled coordinates\n",
    "    xx_s,yy_s = np.meshgrid(x_aperture_s,x_aperture_s)\n",
    "    # Scaled aperture diameter to effectively resample aperture image\n",
    "    diameter_s = diameter_m/(focal_length*wavelength)\n",
    "    # Draw new circle at correct dimensions\n",
    "    # Calculate grid of distances from circle center\n",
    "    circle_s = (xx_s) ** 2 + (yy_s) ** 2 \n",
    "    # Draw boolean circle\n",
    "    circle_s = circle_s < (diameter_s/2)**2 \n",
    "    # Convert boolean circle to int\n",
    "    circle_s= circle_s.astype(np.int64)\n",
    "    # Save aperture image in units of meters\n",
    "    aperture_screen_s = circle_s\n",
    "    # Scale aperture image power to 1\n",
    "    aperture_screen_power = np.sum(np.power(aperture_screen_s,2))\n",
    "    aperture_screen_s = np.divide(aperture_screen_s,np.sqrt(aperture_screen_power))\n",
    "    # Calculate effective size of sampled aperture image in meters\n",
    "    X_aperture_s_meff = focal_length*wavelength/pixel\n",
    "    \n",
    "    ## Phase screen creation:\n",
    "    # Generate random image\n",
    "    # To be used in creating random atmospheric element\n",
    "    phase_phase = np.multiply(np.pi,np.random.normal(loc=0,scale=1,size=(nxy,nxy)))\n",
    "    # Total array sample size\n",
    "    d_aperture = X_aperture_s_meff\n",
    "    # Fried parameter [m]\n",
    "    r0 = 0.2\n",
    "    # Spatial sample resolution\n",
    "    dxy = d_aperture/nxy\n",
    "    # Spatial frequency resolution\n",
    "    df = 1/(d_aperture) \n",
    "    # Image sample indices array\n",
    "    x = np.multiply( np.subtract(np.arange(nxy),int(nxy/2)), dxy )\n",
    "    # Spatial Frequency indices array\n",
    "    xf = np.multiply( np.subtract(np.arange(nxy),int(nxy/2)), df )\n",
    "    # Meshgrid of spatial frequency domain\n",
    "    [xx,yy]=np.meshgrid(xf,xf)\n",
    "    # Radius from center meshgrid\n",
    "    rr = (np.sqrt(np.power(xx,2)+np.power(yy,2)))\n",
    "    # Calculate Kolmogorov spectral density\n",
    "    alpha = 1/100\n",
    "    phase_PSD = np.power(rr,-11/3)\n",
    "    phase_PSD = np.multiply(alpha*0.023/(r0**(5/3)),phase_PSD)\n",
    "    # Set DC component to 0 (previous calc attempts to set to 1/0)\n",
    "    phase_PSD[int(nxy/2),int(nxy/2)] = 0 \n",
    "    # Construct phase screen spectrum\n",
    "    phase_screen_f = np.multiply(np.sqrt(phase_PSD),np.exp(1j*phase_phase))\n",
    "    # Calculate phase screen\n",
    "    phase_screen = np.real(ifft2(fftshift(phase_screen_f)*nxy*nxy))\n",
    "    # Create complex atmospheric screen\n",
    "    atmosphere_screen = np.exp(np.multiply(1j,phase_screen))\n",
    "\n",
    "    # Generate total screen, combining atmosphere and aperture\n",
    "    pupil_screen = np.multiply(atmosphere_screen,aperture_screen_s)\n",
    "\n",
    "    ## Calculate system's total response \n",
    "    # Calculate total PSF of system\n",
    "    psf = fftshift(fft2(pupil_screen))\n",
    "    psf = np.power(np.abs(psf),2)\n",
    "    # Normalize PSF\n",
    "    psf_power = np.sum(np.power(psf,2))\n",
    "    psf = np.divide(psf,psf_power)\n",
    "    # Gamma correct PSF\n",
    "    gamma = 1.6\n",
    "    psf = np.power(psf,1/gamma)  \n",
    "    # Convolve PSF with input image using FFT\n",
    "    sensor_img = fftconvolve(input_img,psf)\n",
    "    # Save the center 512x512 image\n",
    "    sensor_img = sensor_img[center:center+nxy,center:center+nxy]\n",
    "    \n",
    "    return (psf, sensor_img)"
   ]
  },
  {
   "cell_type": "markdown",
   "metadata": {},
   "source": [
    "# Ideal Deconvolution\n",
    "\n",
    "For a noise free process, the captured image = $ G(u,v) = F(u,v)H(u,v) $\n",
    "\n",
    "So to recover the original image, $\\hat{F}(u,v) = G(u,v)/H(u,v) $. We have knowledge that H(u,v) is the observed reference star PSD"
   ]
  },
  {
   "cell_type": "code",
   "execution_count": null,
   "metadata": {
    "collapsed": false
   },
   "outputs": [],
   "source": [
    "## Noiseless deconvolution\n",
    "\n",
    "# Calculate PSDs\n",
    "exposures = 100\n",
    "nxy = 512\n",
    "reference_psd = np.zeros((nxy,nxy))\n",
    "binary_psd = np.zeros((nxy,nxy))\n",
    "reference_img = np.zeros((nxy,nxy))\n",
    "binary_img = np.zeros((nxy,nxy))\n",
    "\n",
    "# Takes ~600ms to run atmos_sim()\n",
    "\n",
    "# Capture avg PSD of multiple reference star images\n",
    "for i in np.arange(exposures):\n",
    "    (reference_img, binary_img) = atmos_sim()\n",
    "    reference_psd += fftshift(np.abs(fft2(reference_img))**2)\n",
    "\n",
    "reference_psd /= exposures\n",
    "    \n",
    "    \n",
    "# Capture avg PSD of multiple binary star images\n",
    "for i in np.arange(exposures):   \n",
    "    (reference_img, binary_img) = atmos_sim()\n",
    "    binary_psd += fftshift(np.abs(fft2(binary_img))**2)\n",
    "\n",
    "binary_psd /= exposures\n",
    "\n",
    "# I do these separately because I want to simulate taking real data,\n",
    "#  where reference and binary stars observations are not taken at the \n",
    "#  same time, and therefore aren't the exact same\n",
    "\n",
    "# Display reference and binary images\n",
    "plt.figure(figsize = (14,6), dpi = 200)\n",
    "plt.subplot(1,2,1)\n",
    "plt.imshow(reference_img)\n",
    "plt.xlabel(\"[pixels]\")\n",
    "plt.ylabel(\"[pixels]\")\n",
    "plt.title(\"Reference Star Image\")\n",
    "plt.subplot(1,2,2)\n",
    "plt.imshow(binary_img)\n",
    "plt.xlabel(\"[pixels]\")\n",
    "plt.ylabel(\"[pixels]\")\n",
    "plt.title(\"Binary Star Image\")\n",
    "\n",
    "# Display reference and binary PSDs\n",
    "plt.figure(figsize=(16,8))\n",
    "plt.subplot(1,2,1)\n",
    "plt.imshow(np.log10(reference_psd))\n",
    "plt.title(\"Reference Star PSD\")\n",
    "plt.subplot(1,2,2)\n",
    "plt.imshow(np.log10(binary_psd))\n",
    "plt.title(\"Binary Star PSD\")"
   ]
  },
  {
   "cell_type": "code",
   "execution_count": null,
   "metadata": {
    "collapsed": false
   },
   "outputs": [],
   "source": [
    "# Setting up Filter Variables\n",
    "G = binary_psd\n",
    "H = reference_psd\n",
    "\n",
    "# Calculating deconvolution\n",
    "F_hat = G/H\n",
    "F_hat_acorr = np.fft.fftshift(np.real(np.fft.ifft2(np.fft.fftshift(F_hat))))\n",
    "\n",
    "plt.figure(figsize=(20,8))\n",
    "plt.subplot(1,2,1)\n",
    "plt.title(\"Deconvolved PSD\")\n",
    "plt.imshow(np.log10(F_hat))\n",
    "plt.colorbar()\n",
    "plt.subplot(1,2,2)\n",
    "plt.title(\"Deconvolved Autocorrelation\")\n",
    "plt.imshow(F_hat_acorr)\n",
    "plt.colorbar()"
   ]
  },
  {
   "cell_type": "markdown",
   "metadata": {
    "collapsed": true
   },
   "source": [
    "# Wiener Filter:\n",
    "\n",
    "\n",
    "$ \\hat{F}(u,v) = [\\frac{H(u,v)}{H^{2}(u,v)+S_{n}(u,v)/S_{f}(u,v)}]G(u,v) $\n",
    "\n",
    "$ S_{n}(u,v)/S_{f}(u,v) = SNR $\n",
    "\n",
    "For white noise, $S_{n}(u,V) = k = constant $\n",
    "\n",
    "$ \\hat{F}(u,v) = [\\frac{H(u,v)}{H^{2}(u,v)+k/S_{f}(u,v)}]G(u,v) $\n"
   ]
  },
  {
   "cell_type": "markdown",
   "metadata": {},
   "source": [
    "Some approximations use $S_{n}(u,v)/S_{f}(u,v) = l = constant$"
   ]
  },
  {
   "cell_type": "code",
   "execution_count": null,
   "metadata": {
    "collapsed": false
   },
   "outputs": [],
   "source": [
    "\n"
   ]
  },
  {
   "cell_type": "code",
   "execution_count": null,
   "metadata": {
    "collapsed": false
   },
   "outputs": [],
   "source": [
    "# Estimating original image with SNR = constant assumption\n",
    "l = 0\n",
    "\n",
    "F_hat = (H/(H**2+l))*G\n",
    "F_hat_acorr = np.fft.fftshift(np.real(np.fft.ifft2(np.fft.fftshift(F_hat))))\n",
    "\n",
    "plt.figure(figsize=(24,8))\n",
    "plt.subplot(1,2,1)\n",
    "plt.imshow(np.log10(F_hat))\n",
    "plt.colorbar()\n",
    "plt.subplot(1,2,2)\n",
    "plt.imshow(F_hat_acorr)\n",
    "plt.colorbar()"
   ]
  }
 ],
 "metadata": {
  "kernelspec": {
   "display_name": "Python 3",
   "language": "python",
   "name": "python3"
  },
  "language_info": {
   "codemirror_mode": {
    "name": "ipython",
    "version": 3
   },
   "file_extension": ".py",
   "mimetype": "text/x-python",
   "name": "python",
   "nbconvert_exporter": "python",
   "pygments_lexer": "ipython3",
   "version": "3.5.1"
  }
 },
 "nbformat": 4,
 "nbformat_minor": 0
}
