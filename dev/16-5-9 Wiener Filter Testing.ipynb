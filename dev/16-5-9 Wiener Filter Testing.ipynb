{
 "cells": [
  {
   "cell_type": "code",
   "execution_count": null,
   "metadata": {
    "collapsed": true
   },
   "outputs": [],
   "source": [
    "# Includes\n",
    "from labeyrieClasses import target, deconvolved\n",
    "import numpy as np\n",
    "import matplotlib.pyplot as plt\n",
    "\n",
    "%matplotlib inline"
   ]
  },
  {
   "cell_type": "code",
   "execution_count": null,
   "metadata": {
    "collapsed": false
   },
   "outputs": [],
   "source": [
    "# Import binary FITS data, calc PSD\n",
    "binary = target()\n",
    "binary.fits.fileName = \"/home/niels/Documents/FITS/KP330.fits\"\n",
    "binary.fits.read(numDimensions = 3)\n",
    "binary.psdCalc()\n",
    "\n",
    "# Import reference FITS data, calc PSD\n",
    "reference = target()\n",
    "reference.fits.fileName = \"/home/niels/Documents/FITS/KP331.fits\"\n",
    "reference.fits.read(numDimensions = 3)\n",
    "reference.psdCalc()"
   ]
  },
  {
   "cell_type": "code",
   "execution_count": null,
   "metadata": {
    "collapsed": false
   },
   "outputs": [],
   "source": [
    "# Display reference and binary PSDs\n",
    "plt.figure(figsize=(16,8))\n",
    "plt.subplot(1,2,1)\n",
    "plt.imshow(np.log10(binary.psd.data))\n",
    "plt.title(\"Binary PSD\")\n",
    "plt.subplot(1,2,2)\n",
    "plt.imshow(np.log10(reference.psd.data))\n",
    "plt.title(\"Reference PSD\")"
   ]
  },
  {
   "cell_type": "markdown",
   "metadata": {
    "collapsed": true
   },
   "source": [
    "# Wiener Filter:\n",
    "$ \\mbox{Estimated Original Image} = \\hat{F}(u,v)$ \n",
    "\n",
    "$ \\mbox{Original Image} = F(u,v)$\n",
    "\n",
    "$ \\mbox{Noise PSD} = S_{n}(u,v)$\n",
    "\n",
    "$ \\mbox{Original Image PSD} = S_{f}(u,v)$\n",
    "\n",
    "$ \\hat{F}(u,v) = [\\frac{H(u,v)}{H^{2}(u,v)+S_{n}(u,v)/S_{f}(u,v)}]G(u,v) $\n",
    "\n",
    "$ S_{n}(u,v)/S_{f}(u,v) = SNR $\n",
    "\n",
    "For white noise, $S_{n}(u,V) = k = constant $\n",
    "\n",
    "$ \\hat{F}(u,v) = [\\frac{H(u,v)}{H^{2}(u,v)+k/S_{f}(u,v)}]G(u,v) $\n"
   ]
  },
  {
   "cell_type": "markdown",
   "metadata": {},
   "source": [
    "Some approximations use $S_{n}(u,v)/S_{f}(u,v) = l = constant$"
   ]
  },
  {
   "cell_type": "code",
   "execution_count": null,
   "metadata": {
    "collapsed": true
   },
   "outputs": [],
   "source": [
    "# Setting up Wiener Filter Variables\n",
    "G = binary.psd.data\n",
    "H = reference.psd.data\n"
   ]
  },
  {
   "cell_type": "code",
   "execution_count": null,
   "metadata": {
    "collapsed": false
   },
   "outputs": [],
   "source": [
    "# Estimating original image with SNR = constant assumption\n",
    "l = 1E-3\n",
    "\n",
    "F_hat = (H/(H**2+l))*G\n",
    "F_hat_acorr = np.fft.fftshift(np.real(np.fft.ifft2(np.fft.fftshift(F_hat))))\n",
    "\n",
    "plt.figure(figsize=(16,8))\n",
    "plt.subplot(1,2,1)\n",
    "plt.imshow(np.log10(F_hat))\n",
    "plt.colorbar()\n",
    "plt.subplot(1,2,2)\n",
    "plt.imshow(F_hat_acorr)\n",
    "plt.colorbar()"
   ]
  }
 ],
 "metadata": {
  "kernelspec": {
   "display_name": "Python 3",
   "language": "python",
   "name": "python3"
  },
  "language_info": {
   "codemirror_mode": {
    "name": "ipython",
    "version": 3
   },
   "file_extension": ".py",
   "mimetype": "text/x-python",
   "name": "python",
   "nbconvert_exporter": "python",
   "pygments_lexer": "ipython3",
   "version": "3.5.1"
  }
 },
 "nbformat": 4,
 "nbformat_minor": 0
}
