{
 "cells": [
  {
   "cell_type": "markdown",
   "metadata": {},
   "source": [
    "# Telescope Simulation\n",
    "\n",
    "Simulation of parabolic lens focusing light of a plane wave\n",
    "\n",
    "## Kitt Peak 2.1m Telescope\n",
    "From http://www.noao.edu/outreach/kptour/2_1_m.html, this telescope has the following specs:\n",
    "\n",
    "- Diameter = 2.4m = 2400mm\n",
    "- Focal Ratio = f/2.63\n",
    "- Focal Length = 2400*2.63 = 6312mm"
   ]
  },
  {
   "cell_type": "code",
   "execution_count": 1,
   "metadata": {
    "collapsed": true
   },
   "outputs": [],
   "source": [
    "import matplotlib.pyplot as plt\n",
    "import numpy as np\n",
    "\n",
    "%matplotlib inline"
   ]
  },
  {
   "cell_type": "code",
   "execution_count": 2,
   "metadata": {
    "collapsed": false
   },
   "outputs": [
    {
     "name": "stdout",
     "output_type": "stream",
     "text": [
      "[ 10.89273375   5.44636687   0.          -5.44636687 -10.89273375]\n"
     ]
    }
   ],
   "source": [
    "# Lens Parameters\n",
    "diameter = 2400\n",
    "focal_length = 6312\n",
    "\n",
    "# Equation for reflector's shape\n",
    "def parabola(x):\n",
    "    return (x**2)/(4*focal_length)\n",
    "\n",
    "# Incident ray parameters\n",
    "num_rays = 5\n",
    "angle_incident = np.deg2rad(0) # In radians\n",
    "\n",
    "# Reflection Locations\n",
    "# Calculating Y-values where reflection occurs\n",
    "reflection_y = np.zeros(num_rays)\n",
    "for i in np.arange(num_rays):\n",
    "    # Evenly space rays over the diameter of reflector\n",
    "    reflection_y[i] = -diameter/2 + i*diameter/(num_rays-1)\n",
    "# Calculating mirror displacement at reflection location\n",
    "reflection_x = -parabola(reflection_y)\n",
    "\n",
    "# Start Locations\n",
    "# Setting X value where incident rays come from\n",
    "start_x = -focal_length*1.2\n",
    "# Calculating Y values where incident rays come from\n",
    "start_y = reflection_y+(start_x-reflection_x)*np.tan(angle_incident)\n",
    "\n",
    "# Calculating reflected angles of each ray\n",
    "angle_reflected = angle_incident - (1/focal_length)*reflection_y\n",
    "\n",
    "# End locations\n",
    "# Calculating X values where reflected waves end\n",
    "end_x = -focal_length*1.2\n",
    "# Calculating Y values where incident rays come from\n",
    "end_y = reflection_y+(reflection_x-end_x)*np.tan(angle_reflected)\n",
    "\n",
    "print(np.rad2deg(angle_reflected))"
   ]
  },
  {
   "cell_type": "code",
   "execution_count": 3,
   "metadata": {
    "collapsed": false
   },
   "outputs": [
    {
     "data": {
      "image/png": "[encoded data removed]",
      "text/plain": [
       "<matplotlib.figure.Figure at 0x7f94d5e05780>"
      ]
     },
     "metadata": {},
     "output_type": "display_data"
    }
   ],
   "source": [
    "plt.figure(figsize=(10,10*diameter/focal_length))\n",
    "\n",
    "# Plot parabolic lens\n",
    "y = np.arange(-diameter/2,diameter/2,diameter/1000)\n",
    "x = -parabola(y)\n",
    "plt.plot(x,y,linewidth=5.0)\n",
    "\n",
    "# Plot incident light rays\n",
    "for i in np.arange(num_rays):\n",
    "    line = plt.Line2D((start_x,reflection_x[i]), (start_y[i],reflection_y[i]), lw=1)\n",
    "    plt.gca().add_line(line)\n",
    "\n",
    "# Plot reflected light rays\n",
    "for i in np.arange(num_rays):\n",
    "    line = plt.Line2D((end_x,reflection_x[i]), (end_y[i],reflection_y[i]), lw=1)\n",
    "    plt.gca().add_line(line)\n",
    "\n",
    "plt.axis(\"equal\")\n",
    "plt.grid(\"on\")\n"
   ]
  },
  {
   "cell_type": "code",
   "execution_count": null,
   "metadata": {
    "collapsed": false
   },
   "outputs": [],
   "source": []
  }
 ],
 "metadata": {
  "kernelspec": {
   "display_name": "Python 3",
   "language": "python",
   "name": "python3"
  },
  "language_info": {
   "codemirror_mode": {
    "name": "ipython",
    "version": 3
   },
   "file_extension": ".py",
   "mimetype": "text/x-python",
   "name": "python",
   "nbconvert_exporter": "python",
   "pygments_lexer": "ipython3",
   "version": "3.5.1"
  }
 },
 "nbformat": 4,
 "nbformat_minor": 0
}
