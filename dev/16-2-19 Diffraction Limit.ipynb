{
 "cells": [
  {
   "cell_type": "markdown",
   "metadata": {},
   "source": [
    "# Diffraction Limit Simulation\n",
    "\n",
    "Simulating the output of a prime focus telescope given an input image. \n",
    "\n",
    "## Kitt Peak 2.1m Telescope\n",
    "From http://www.noao.edu/outreach/kptour/2_1_m.html, this telescope has the following specs:\n",
    "\n",
    "- Diameter = 2.1m = 2100mm\n",
    "- Focal Ratio = f/2.63\n",
    "- Focal Length = 2100mm*2.63 = 5523mm\n",
    "\n",
    "## Andora Luca-R\n",
    "From https://www.andor.com/pdfs/specifications/Andor_Luca-R_604_Specifications.pdf\n",
    "\n",
    "- Sensor Size = 1004 (H) x 1002 (V) Pixels = 8mm X 8mm\n",
    " - Simplifying to 1000 x 1000 Pixels\n",
    "- Pixel Size = 8um X 8um\n",
    "\n",
    "## Calcs:\n",
    "- Input image is in units of angles [ex: arcsec], represents the full input field of view\n",
    "- Aperture is in units of wavelength [ex: um]\n",
    "- Output image is in units of pixels"
   ]
  },
  {
   "cell_type": "code",
   "execution_count": 2,
   "metadata": {
    "collapsed": false
   },
   "outputs": [],
   "source": [
    "# Includes\n",
    "import matplotlib.pyplot as plt\n",
    "import numpy as np\n",
    "from scipy.fftpack import fft2, ifft2\n",
    "\n",
    "%matplotlib inline\n",
    "# Defining Convolution Function\n",
    "\n",
    "# Creating Input Image\n",
    "\n",
    "# Creating Aperture Image\n",
    "\n",
    "# Calculate Output Image"
   ]
  }
 ],
 "metadata": {
  "kernelspec": {
   "display_name": "Python 3",
   "language": "python",
   "name": "python3"
  },
  "language_info": {
   "codemirror_mode": {
    "name": "ipython",
    "version": 3
   },
   "file_extension": ".py",
   "mimetype": "text/x-python",
   "name": "python",
   "nbconvert_exporter": "python",
   "pygments_lexer": "ipython3",
   "version": "3.5.1"
  }
 },
 "nbformat": 4,
 "nbformat_minor": 0
}
