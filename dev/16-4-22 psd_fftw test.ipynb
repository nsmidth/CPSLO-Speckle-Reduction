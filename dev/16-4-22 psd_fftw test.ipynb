{
 "cells": [
  {
   "cell_type": "code",
   "execution_count": null,
   "metadata": {
    "collapsed": false
   },
   "outputs": [],
   "source": [
    "from labeyrieClasses import target #, fftw_psd\n",
    "import numpy as np\n",
    "import matplotlib.pyplot as plt\n",
    "import ctypes\n"
   ]
  },
  {
   "cell_type": "code",
   "execution_count": null,
   "metadata": {
    "collapsed": false,
    "scrolled": true
   },
   "outputs": [],
   "source": [
    "binary = target()\n",
    "binary.fits.fileName = \"/home/niels/Documents/FITS/KP330.fits\"\n",
    "binary.fits.read(numDimensions = 3)"
   ]
  },
  {
   "cell_type": "code",
   "execution_count": null,
   "metadata": {
    "collapsed": false
   },
   "outputs": [],
   "source": [
    "# Testing PSD wrapper\n",
    "\n",
    "# Use FFTW to calculate the PSD of a single image\n",
    "# Input image = 512x512 ndarray of np.double32\n",
    "# Output image = \n",
    "\n",
    "# Import shared C library\n",
    "fftw_psd_dll = ctypes.CDLL('/home/niels/Dropbox/Thesis/Python/dev/fftw_psd.so')\n",
    "\n",
    "# Image sizing parameters\n",
    "imgsize = 512\n",
    "psd_n = imgsize*(int(imgsize/2)+1)\n",
    "img_n = imgsize**2\n",
    "\n"
   ]
  },
  {
   "cell_type": "code",
   "execution_count": null,
   "metadata": {
    "collapsed": true
   },
   "outputs": [],
   "source": [
    "# Get input file\n",
    "input_img = binary.fits.data[0]\n",
    "#array = np.zeros((imgsize,imgsize))\n",
    "#array[int(imgsize/2)+1,int(imgsize/2)] = 1\n",
    "#array[int(imgsize/2)-1,int(imgsize/2)] = 1\n",
    "#array[int(imgsize/2),int(imgsize/2)] = 1"
   ]
  },
  {
   "cell_type": "code",
   "execution_count": null,
   "metadata": {
    "collapsed": false
   },
   "outputs": [],
   "source": [
    "# Reshape Square array to be flat\n",
    "input_img_flat = np.reshape(input_img.astype(np.float32),(imgsize**2,1))\n",
    "\n",
    "# Create pointers for in/out\n",
    "img_ptr = (input_img_flat).ctypes.data_as(ctypes.POINTER(ctypes.c_float))\n",
    "out_ptr = (np.zeros(img_n,np.float32)).ctypes.data_as(ctypes.POINTER(ctypes.c_float))\n",
    "# Array type to be passed to wrapped C function\n",
    "# Set input argument to be flat array of doubles (# of input img pixels)\n",
    "fftw_psd_dll.psd.argtypes = [ctypes.POINTER(ctypes.c_float)]\n",
    "fftw_psd_dll.psd.restype = ctypes.POINTER(ctypes.c_float * psd_n)\n",
    "\n",
    "# Calculate PSD, get a pointer returned\n",
    "out_ptr = fftw_psd_dll.psd(img_ptr)\n",
    "\n",
    "# Reshape array to image\n",
    "psd_image = np.reshape(out_ptr.contents,(imgsize,int(imgsize/2+1)))"
   ]
  },
  {
   "cell_type": "code",
   "execution_count": null,
   "metadata": {
    "collapsed": false
   },
   "outputs": [],
   "source": [
    "plt.figure()\n",
    "plt.subplot(1,2,1)\n",
    "plt.imshow(np.reshape(input_img_flat,(imgsize,imgsize)))\n",
    "plt.subplot(1,2,2)\n",
    "plt.imshow(np.log10(psd_image))\n",
    "if (imgsize < 16):\n",
    "    print(psd_image)\n",
    "    print(psd_array)\n",
    "    print(array)"
   ]
  },
  {
   "cell_type": "code",
   "execution_count": null,
   "metadata": {
    "collapsed": true
   },
   "outputs": [],
   "source": [
    "def fftw_psd(input_img):\n",
    "    # Reshape Square array to be flat\n",
    "    input_img_flat = np.reshape(input_img.astype(np.float32),(imgsize**2,1))\n",
    "\n",
    "    # Create pointers for in/out\n",
    "    img_ptr = (input_img_flat).ctypes.data_as(ctypes.POINTER(ctypes.c_float))\n",
    "    out_ptr = (np.zeros(img_n,np.float32)).ctypes.data_as(ctypes.POINTER(ctypes.c_float))\n",
    "    # Array type to be passed to wrapped C function\n",
    "    # Set input argument to be flat array of doubles (# of input img pixels)\n",
    "    fftw_psd_dll.psd.argtypes = [ctypes.POINTER(ctypes.c_float)]\n",
    "    fftw_psd_dll.psd.restype = ctypes.POINTER(ctypes.c_float * psd_n)\n",
    "\n",
    "    # Calculate PSD, get a pointer returned\n",
    "    out_ptr = fftw_psd_dll.psd(img_ptr)\n",
    "\n",
    "    # Reshape array to image\n",
    "    psd_image = np.reshape(out_ptr.contents,(imgsize,int(imgsize/2+1)))# Get input file\n",
    "input_img = binary.fits.data[0]\n",
    "#array = np.zeros((imgsize,imgsize))\n",
    "#array[int(imgsize/2)+1,int(imgsize/2)] = 1\n",
    "#array[int(imgsize/2)-1,int(imgsize/2)] = 1\n",
    "#array[int(imgsize/2),int(imgsize/2)] = 1\n",
    "    \n",
    "    # Return PSD Image\n",
    "    return psd_image"
   ]
  },
  {
   "cell_type": "code",
   "execution_count": null,
   "metadata": {
    "collapsed": false
   },
   "outputs": [],
   "source": [
    "# Averaging ~8.6ms for each PSD calculation\n",
    "\n",
    "psd_sum = np.zeros((imgsize,int(imgsize/2)+1))\n",
    "image = binary.fits.data[0]\n",
    "%timeit psd_sum = fftw_psd(image)\n"
   ]
  }
 ],
 "metadata": {
  "kernelspec": {
   "display_name": "Python 3",
   "language": "python",
   "name": "python3"
  },
  "language_info": {
   "codemirror_mode": {
    "name": "ipython",
    "version": 3
   },
   "file_extension": ".py",
   "mimetype": "text/x-python",
   "name": "python",
   "nbconvert_exporter": "python",
   "pygments_lexer": "ipython3",
   "version": "3.5.1"
  }
 },
 "nbformat": 4,
 "nbformat_minor": 0
}
