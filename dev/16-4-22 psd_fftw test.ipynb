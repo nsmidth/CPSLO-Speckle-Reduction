{
 "cells": [
  {
   "cell_type": "code",
   "execution_count": 1,
   "metadata": {
    "collapsed": false
   },
   "outputs": [],
   "source": [
    "from labeyrieClasses import target, fftw_psd\n",
    "import numpy as np\n",
    "import matplotlib.pyplot as plt\n",
    "import ctypes\n",
    "%matplotlib inline"
   ]
  },
  {
   "cell_type": "code",
   "execution_count": 2,
   "metadata": {
    "collapsed": false
   },
   "outputs": [
    {
     "name": "stdout",
     "output_type": "stream",
     "text": [
      "Filename: /home/niels/Documents/FITS/KP330.fits\n",
      "No.    Name         Type      Cards   Dimensions   Format\n",
      "0    PRIMARY     PrimaryHDU      62   (512, 512, 1000)   float32   \n",
      "None\n"
     ]
    }
   ],
   "source": [
    "binary = target()\n",
    "binary.fits.fileName = \"/home/niels/Documents/FITS/KP330.fits\"\n",
    "binary.fits.read(numDimensions = 3)"
   ]
  },
  {
   "cell_type": "code",
   "execution_count": 7,
   "metadata": {
    "collapsed": false
   },
   "outputs": [
    {
     "name": "stdout",
     "output_type": "stream",
     "text": [
      "1 loops, best of 3: 213 ms per loop\n"
     ]
    }
   ],
   "source": [
    "# Testing PSD wrapper\n",
    "\n",
    "# Use FFTW to calculate the PSD of a single image\n",
    "# Input image = 512x512 ndarray of np.double32\n",
    "# Output image = \n",
    "\n",
    "fftw_psd_dll = ctypes.CDLL('/home/niels/Dropbox/Thesis/Python/dev/fftw_psd.so')\n",
    "imgsize = 512\n",
    "psd_n = imgsize*(int(imgsize/2)+1)\n",
    "img_n = imgsize**2\n",
    "\n",
    "image512 = binary.fits.data[0]\n",
    "\n",
    "# Reshape Square array to be flat\n",
    "array = np.reshape(image512,(imgsize**2,1))\n",
    "\n",
    "# Array type to be passed to wrapped C function\n",
    "array_type = ctypes.c_double * img_n\n",
    "# Set input argument to be flat array of doubles (# of input img pixels)\n",
    "fftw_psd_dll.psd.argtypes = [ctypes.POINTER(ctypes.c_double * img_n)]\n",
    "# Set output argument to be flat array of doubles (# of output psd pixels)\n",
    "fftw_psd_dll.psd.restype = ctypes.POINTER(ctypes.c_double * psd_n)\n",
    "\n",
    "# Calculate PSD, get a pointer returned\n",
    "%timeit array_ctype = array_type(*array)\n",
    "psd_pointer = fftw_psd_dll.psd(array_ctype)\n",
    "\n",
    "# Turn iterable pointer to array\n",
    "psd_array = np.fromiter(psd_pointer.contents,np.float32,-1)\n",
    "# Reshape array to image\n",
    "psd_image = np.reshape(psd_array,(imgsize,int(imgsize/2+1)))"
   ]
  }
 ],
 "metadata": {
  "kernelspec": {
   "display_name": "Python 3",
   "language": "python",
   "name": "python3"
  },
  "language_info": {
   "codemirror_mode": {
    "name": "ipython",
    "version": 3
   },
   "file_extension": ".py",
   "mimetype": "text/x-python",
   "name": "python",
   "nbconvert_exporter": "python",
   "pygments_lexer": "ipython3",
   "version": "3.5.1"
  }
 },
 "nbformat": 4,
 "nbformat_minor": 0
}
