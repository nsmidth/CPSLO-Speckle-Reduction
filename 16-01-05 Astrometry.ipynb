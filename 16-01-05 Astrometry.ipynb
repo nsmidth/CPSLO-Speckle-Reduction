{
 "cells": [
  {
   "cell_type": "markdown",
   "metadata": {},
   "source": [
    "# 16 1 5\n",
    "\n",
    "Adding in expected secondary position, which will be used to find the observed secondary lobe closest to the expected secondary position. \n",
    "\n",
    "PS3 takes in the following data fields: \n",
    "- *TID* — Target ID. If the Target ID is a “D”, then PS3 will process this file, otherwise it will be ignored.\n",
    "This allows a master database to contain, for instance, single stars used for deconvolution, slit mask\n",
    "or drift calibrations, etc.\n",
    "- *DSFN* — Double star (FITS cube) file name.\n",
    "- *RSFN* — Reference star (FITS) cube file name.\n",
    "- *ThetaC* — Calculated (input) estimated, predicted, or last catalog reported double star position angle.\n",
    "- *RhoC* — Calculated (input) estimated, predicted, or last catalog reported double star separation.\n",
    "- *Delta* — Camera Angle (degrees). Camera orientation angle with respect to the sky.\n",
    "- *E* — Plate scale (arc seconds / pixel).\n",
    "\n",
    "For all the FITS data I am working with from April 2014 Kitt Peak run:\n",
    "- *Delta* = 0 [degrees]\n",
    "- *E* = 0.01166 [arc seconds / pixel]\n"
   ]
  },
  {
   "cell_type": "code",
   "execution_count": null,
   "metadata": {
    "collapsed": true
   },
   "outputs": [],
   "source": [
    "# Using calculated centroid data from end of previous notebook along \n",
    "#  with calibration and expected position data from run log to calculate \n",
    "#  observed secondary location."
   ]
  },
  {
   "cell_type": "code",
   "execution_count": null,
   "metadata": {
    "collapsed": true
   },
   "outputs": [],
   "source": [
    "# Import Modules\n",
    "import numpy as np\n",
    "import matplotlib.pyplot as plt\n",
    "from mpl_toolkits.mplot3d import Axes3D\n",
    "from scipy.fftpack import fft2,ifft2,fftshift\n",
    "from speckle_fns import fits_import, circ_filter1\n",
    "from speckle_fns import deconv0,deconv1, postprocess\n",
    "from speckle_fns import filter_lpf, filter_hpf, filter_interference\n",
    "from speckle_fns import fits_view\n",
    "import sys\n",
    "import cv2\n",
    "import math\n",
    "\n",
    "%matplotlib inline"
   ]
  },
  {
   "cell_type": "code",
   "execution_count": null,
   "metadata": {
    "collapsed": false
   },
   "outputs": [],
   "source": [
    "# Centroid values from end of 15-12-28 notebook:\n",
    "centroids = np.zeros((5,2,2))\n",
    "\n",
    "centroids[0] = [[ 403.24772626, 405.91946966],[ 108.75227374, 106.08053034]]\n",
    "centroids[1] = [[ 220.00967484, 255.04554408],[ 291.99032516, 256.95445592]]\n",
    "centroids[2] = [[ 469.02557551, 506.57034716],[ 42.97582522, 5.06646098]]\n",
    "centroids[3] = [[ 225.11283002, 274.88879163],[ 286.88716998, 237.11120837]]\n",
    "centroids[4] = [[ 282.11470187, 275.93283984],[ 229.88529813, 236.06716016]]\n",
    "\n",
    "# Expected positions of each pair from \"KP 4-14 Run Log.xlsx\"\n",
    "thetaCs = np.array((204,63,32,305,124))\n",
    "rhoCs = np.array((44.7,4.9,0.3,0.5,0.4))\n",
    "\n",
    "# Calibration values from \"KP 4-14 Run Log.xlsx\"\n",
    "delta = 0\n",
    "E = 0.01166"
   ]
  },
  {
   "cell_type": "code",
   "execution_count": null,
   "metadata": {
    "collapsed": false,
    "scrolled": true
   },
   "outputs": [],
   "source": [
    "# Select which set of data to work with\n",
    "\n",
    "k = 0\n",
    "\n",
    "centroid = centroids[k]\n",
    "thetaC = thetaCs[k]\n",
    "rhoC = rhoCs[k]"
   ]
  },
  {
   "cell_type": "code",
   "execution_count": null,
   "metadata": {
    "collapsed": false,
    "scrolled": false
   },
   "outputs": [],
   "source": [
    "## Displaying calculated centroid values along with expected secondary star locations\n",
    "\n",
    "# Create blank image\n",
    "img = np.zeros((512,512,3), np.uint8)\n",
    "\n",
    "# Parameters for marking objects\n",
    "circle_radius = 11 # Radius of circle around location\n",
    "circle_border = 1 # Border of circle around location\n",
    "color_centroid = (255,0,0) # Color of centroid marker\n",
    "color_secondaryC = (0,255,0) # Color of expected secondary star location\n",
    "\n",
    "# Mark centroid locations on image\n",
    "cv2.circle(img, (centroid[0,0].astype(np.uint16),centroid[0,1].astype(np.uint16)), circle_radius, color_centroid, circle_border)\n",
    "cv2.circle(img, (centroid[1,0].astype(np.uint16),centroid[1,1].astype(np.uint16)), circle_radius, color_centroid, circle_border)\n",
    "\n",
    "# Calculate pixel locations of expected secondary location\n",
    "thetaC_camera = thetaC-delta\n",
    "rhoC_camera = rhoC/E\n",
    "\n",
    "print(\"thetaC_camera=\",thetaC_camera, \"degrees\")\n",
    "print(\"rhoC_camera=\",rhoC_camera, \"pixels\")\n",
    "\n",
    "plt.figure(figsize=(10,10))\n",
    "plt.imshow(img)"
   ]
  }
 ],
 "metadata": {
  "kernelspec": {
   "display_name": "Python 3",
   "language": "python",
   "name": "python3"
  },
  "language_info": {
   "codemirror_mode": {
    "name": "ipython",
    "version": 3
   },
   "file_extension": ".py",
   "mimetype": "text/x-python",
   "name": "python",
   "nbconvert_exporter": "python",
   "pygments_lexer": "ipython3",
   "version": "3.5.1"
  }
 },
 "nbformat": 4,
 "nbformat_minor": 0
}
