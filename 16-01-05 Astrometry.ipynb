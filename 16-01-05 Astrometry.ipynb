{
 "cells": [
  {
   "cell_type": "markdown",
   "metadata": {},
   "source": [
    "# 16 1 5\n",
    "\n",
    "Adding in expected secondary position, which will be used to find the observed secondary lobe closest to the expected secondary position. \n",
    "\n",
    "PS3 takes in the following data fields: \n",
    "- *TID* — Target ID. If the Target ID is a “D”, then PS3 will process this file, otherwise it will be ignored.\n",
    "This allows a master database to contain, for instance, single stars used for deconvolution, slit mask\n",
    "or drift calibrations, etc.\n",
    "- *DSFN* — Double star (FITS cube) file name.\n",
    "- *RSFN* — Reference star (FITS) cube file name.\n",
    "- *ThetaC* — Calculated (input) estimated, predicted, or last catalog reported double star position angle.\n",
    "- *RhoC* — Calculated (input) estimated, predicted, or last catalog reported double star separation.\n",
    "- *Delta* — Camera Angle (degrees). Camera orientation angle with respect to the sky.\n",
    "- *E* — Plate scale (arc seconds / pixel).\n",
    "\n",
    "For all the FITS data I am working with from April 2014 Kitt Peak run:\n",
    "- *Delta* = 0 [degrees]\n",
    "- *E* = 0.01166 [arc seconds / pixel]\n"
   ]
  },
  {
   "cell_type": "code",
   "execution_count": null,
   "metadata": {
    "collapsed": true
   },
   "outputs": [],
   "source": []
  }
 ],
 "metadata": {
  "kernelspec": {
   "display_name": "Python 3",
   "language": "python",
   "name": "python3"
  },
  "language_info": {
   "codemirror_mode": {
    "name": "ipython",
    "version": 3
   },
   "file_extension": ".py",
   "mimetype": "text/x-python",
   "name": "python",
   "nbconvert_exporter": "python",
   "pygments_lexer": "ipython3",
   "version": "3.5.1"
  }
 },
 "nbformat": 4,
 "nbformat_minor": 0
}
