{
 "cells": [
  {
   "cell_type": "markdown",
   "metadata": {},
   "source": [
    "# 16 1 5\n",
    "\n",
    "Adding in expected secondary position, which will be used to find the observed secondary lobe closest to the expected secondary position. \n",
    "\n",
    "PS3 takes in the following data fields: \n",
    "- *TID* — Target ID. If the Target ID is a “D”, then PS3 will process this file, otherwise it will be ignored.\n",
    "This allows a master database to contain, for instance, single stars used for deconvolution, slit mask\n",
    "or drift calibrations, etc.\n",
    "- *DSFN* — Double star (FITS cube) file name.\n",
    "- *RSFN* — Reference star (FITS) cube file name.\n",
    "- *ThetaC* — Calculated (input) estimated, predicted, or last catalog reported double star position angle.\n",
    "- *RhoC* — Calculated (input) estimated, predicted, or last catalog reported double star separation.\n",
    "- *Delta* — Camera Angle (degrees). Camera orientation angle with respect to the sky.\n",
    "- *E* — Plate scale (arc seconds / pixel).\n",
    "\n",
    "For all the FITS data I am working with from April 2014 Kitt Peak run:\n",
    "- *Delta* = 0 [degrees]\n",
    "- *E* = 0.01166 [arc seconds / pixel]\n"
   ]
  },
  {
   "cell_type": "code",
   "execution_count": null,
   "metadata": {
    "collapsed": true
   },
   "outputs": [],
   "source": [
    "# Using calculated centroid data from end of previous notebook along \n",
    "#  with calibration and expected position data from run log to calculate \n",
    "#  observed secondary location."
   ]
  },
  {
   "cell_type": "code",
   "execution_count": null,
   "metadata": {
    "collapsed": true
   },
   "outputs": [],
   "source": [
    "# Import Modules\n",
    "import numpy as np\n",
    "import matplotlib.pyplot as plt\n",
    "from mpl_toolkits.mplot3d import Axes3D\n",
    "from scipy.fftpack import fft2,ifft2,fftshift\n",
    "from speckle_fns import fits_import, circ_filter1\n",
    "from speckle_fns import deconv0,deconv1, postprocess\n",
    "from speckle_fns import filter_lpf, filter_hpf, filter_interference\n",
    "from speckle_fns import fits_view\n",
    "from collections import namedtuple\n",
    "import sys\n",
    "import cv2\n",
    "import math\n",
    "\n",
    "%matplotlib inline"
   ]
  },
  {
   "cell_type": "code",
   "execution_count": null,
   "metadata": {
    "collapsed": false
   },
   "outputs": [],
   "source": [
    "# Centroid values from end of 15-12-28 notebook:\n",
    "centroids = np.zeros((5,2,2))\n",
    "\n",
    "centroids[0] = [[ 403.24772626, 405.91946966],[ 108.75227374, 106.08053034]]\n",
    "centroids[1] = [[ 220.00967484, 255.04554408],[ 291.99032516, 256.95445592]]\n",
    "centroids[2] = [[ 469.02557551, 506.57034716],[ 42.97582522, 5.06646098]]\n",
    "centroids[3] = [[ 225.11283002, 274.88879163],[ 286.88716998, 237.11120837]]\n",
    "centroids[4] = [[ 282.11470187, 275.93283984],[ 229.88529813, 236.06716016]]\n",
    "\n",
    "# Expected positions of each pair from \"KP 4-14 Run Log.xlsx\"\n",
    "thetaCs = np.array((204,63,32,305,124))\n",
    "rhoCs = np.array((44.7,4.9,0.3,0.5,0.4))\n",
    "\n",
    "# Calibration values from \"KP 4-14 Run Log.xlsx\"\n",
    "delta = 0\n",
    "E = 0.01166"
   ]
  },
  {
   "cell_type": "code",
   "execution_count": null,
   "metadata": {
    "collapsed": false,
    "scrolled": true
   },
   "outputs": [],
   "source": [
    "# Select which set of data to work with\n",
    "\n",
    "k = 3\n",
    "\n",
    "centroid = centroids[k]"
   ]
  },
  {
   "cell_type": "code",
   "execution_count": null,
   "metadata": {
    "collapsed": false
   },
   "outputs": [],
   "source": [
    "# Functions & structs used in this file\n",
    "\n",
    "# convert float pixel indices to rounded, int16 values\n",
    "def pixelRound(val):\n",
    "    return (np.round(val)).astype(np.int16)\n",
    "\n",
    "# position class is for holding the position of anything\n",
    "#  Position may be represented in Cartesian or Polar coordinates\n",
    "#  Want to be able to store both kinda of coordinates\n",
    "class position:\n",
    "    def __init__(self, midpoint=None, theta=None, rho=None, x=None, y=None):\n",
    "        self.theta = theta\n",
    "        self.rho = rho\n",
    "        self.x = x\n",
    "        self.y = y\n",
    "        self.midpoint = midpoint\n",
    "        \n",
    "    # Orbital plot has 0deg pointing down on the screen [resulting in 90deg shift]\n",
    "    # Theta rotates counterclockwise from 0deg\n",
    "    # Positive pixel direction is downward [resulting in Y phase reversal]\n",
    "    # Polar coordinates centered on middle pixel of image\n",
    "        \n",
    "    # convert theta and rho values to image x and y coordinates    \n",
    "    def polar2cart(self):\n",
    "        self.x = self.midpoint + (self.rho * np.cos(np.radians(self.theta-90)))\n",
    "        self.y = self.midpoint - (self.rho * np.sin(np.radians(self.theta-90)))\n",
    "        \n",
    "    # convert x and y coordinates to theta and rho values\n",
    "    def cart2polar(self):\n",
    "        # Get cartesians centered on 0 for calculations\n",
    "        x = self.x-self.midpoint\n",
    "        y = self.midpoint-self.y\n",
    "        \n",
    "        self.rho = np.linalg.norm((x,y))\n",
    "        self.theta = np.degrees(np.arctan2(y,x))+90\n",
    "        # Add 360 deg if theta is a negative angle\n",
    "        self.theta = self.theta + 360*(self.theta<0) \n",
    "        \n",
    "# star class is for holding position of a star\n",
    "#  A star has coordinates in camera (in pixels) and also\n",
    "#  in the observed sky (in arcseconds). Theta represents \n",
    "#  rotation of camera in relation to the sky\n",
    "#starType = namedtuple('starType',\"cam sky error\")\n",
    "class star:\n",
    "    def __init__(self, midpoint = None, E=None, delta=None):\n",
    "        self.cam = position(midpoint = midpoint)\n",
    "        self.sky = position(midpoint = midpoint)\n",
    "        self.E = E\n",
    "        self.delta = delta\n",
    "    \n",
    "        \n",
    "    # Convert from polar coords in sky to camera\n",
    "    def sky2cam(self):\n",
    "        self.cam.theta = self.sky.theta+self.delta\n",
    "        self.cam.rho =   self.sky.rho/self.E\n",
    "        \n",
    "    # Convert from polar coords in camera to sky    \n",
    "    def cam2sky(self):\n",
    "        self.sky.theta = self.cam.theta-self.delta\n",
    "        self.sky.rho   = self.cam.rho*self.E\n",
    "\n",
    "# Circular marking for noting locations of objects\n",
    "marker = namedtuple('marker',\"stroke radius color\")\n",
    "centroidMarker = marker(stroke=1,radius=10,color=(255,0,0))\n",
    "expectedMarker = marker(stroke=1,radius=10,color=(0,255,0))\n",
    "observedMarker = marker(stroke=1,radius=5,color=(0,0,255))"
   ]
  },
  {
   "cell_type": "code",
   "execution_count": null,
   "metadata": {
    "collapsed": false,
    "scrolled": false
   },
   "outputs": [],
   "source": [
    "## Displaying calculated centroid values along with expected secondary star locations\n",
    "\n",
    "# Create blank image\n",
    "imgDim = 512\n",
    "img = np.zeros((imgDim,imgDim,3), np.uint8)\n",
    "\n",
    "# Object for the expected star position\n",
    "expectedPos = star(midpoint = imgDim/2, E = E, delta = delta)\n",
    "# Object for the closest centroid to expected star position\n",
    "observedPos = star(midpoint = imgDim/2, E = E, delta = delta)\n",
    "\n",
    "# Assigning position values from previous data\n",
    "expectedPos.sky.theta = thetaCs[k]\n",
    "expectedPos.sky.rho = rhoCs[k]\n",
    "\n",
    "# Calculate camera locations of expected star pos\n",
    "expectedPos.sky2cam()\n",
    "\n",
    "# Converting to cartesian\n",
    "expectedPos.cam.polar2cart()\n",
    "\n",
    "# Mark centroid locations on image\n",
    "cv2.circle(img, (centroid[0,0].astype(np.uint16),centroid[0,1].astype(np.uint16)), centroidMarker.radius, centroidMarker.color, centroidMarker.stroke)\n",
    "cv2.circle(img, (centroid[1,0].astype(np.uint16),centroid[1,1].astype(np.uint16)), centroidMarker.radius, centroidMarker.color, centroidMarker.stroke)\n",
    "\n",
    "# Mark expected star location on image\n",
    "cv2.circle(img, (pixelRound(expectedPos.cam.x),pixelRound(expectedPos.cam.y)),expectedMarker.radius, expectedMarker.color, expectedMarker.stroke)\n",
    "\n",
    "plt.figure(figsize=(10,10))\n",
    "plt.imshow(img)"
   ]
  },
  {
   "cell_type": "markdown",
   "metadata": {},
   "source": [
    "# 16 1 6\n",
    "\n",
    "Testing methods of classes"
   ]
  },
  {
   "cell_type": "raw",
   "metadata": {
    "collapsed": false
   },
   "source": [
    "# Testing transitions between cartesian and polar coordinates\n",
    "img = np.zeros((imgDim,imgDim,3), np.uint8)\n",
    "\n",
    "# Object for the expected star position\n",
    "expectedPos = star(midpoint = imgDim/2, E = E, delta = delta)\n",
    "\n",
    "expectedPos.cam.x = 256\n",
    "expectedPos.cam.y = 300\n",
    "\n",
    "print(\"Cartesian Coords:\")\n",
    "print(expectedPos.cam.x, expectedPos.cam.y)\n",
    "\n",
    "print(\"Converting to Polar\")\n",
    "expectedPos.cam.cart2polar()\n",
    "\n",
    "print(\"Polar Coords:\")\n",
    "print(expectedPos.cam.rho, expectedPos.cam.theta)\n",
    "\n",
    "print(\"Converting to Cartesian\")\n",
    "expectedPos.cam.polar2cart()\n",
    "\n",
    "print(\"Cartesian Coords:\")\n",
    "print(expectedPos.cam.x, expectedPos.cam.y)\n",
    "\n",
    "# Mark expected star location on image\n",
    "cv2.circle(img, (pixelRound(expectedPos.cam.x),pixelRound(expectedPos.cam.y)),expectedMarker.radius, expectedMarker.color, expectedMarker.stroke)\n",
    "\n",
    "# Mark center\n",
    "cv2.circle(img, (256,256),3, (128,128,128), -1)\n",
    "\n",
    "plt.figure(figsize=(10,10))\n",
    "plt.imshow(img)"
   ]
  },
  {
   "cell_type": "raw",
   "metadata": {
    "collapsed": false
   },
   "source": [
    "# Testing transitions between cartesian and polar coordinates\n",
    "img = np.zeros((imgDim,imgDim,3), np.uint8)\n",
    "\n",
    "# Object for the expected star position\n",
    "expectedPos = star(midpoint = imgDim/2, E = E, delta = 0)\n",
    "\n",
    "expectedPos.sky.theta = thetaCs[k]\n",
    "expectedPos.sky.rho = rhoCs[k]\n",
    "\n",
    "print(\"Sky Polar Coords:\")\n",
    "print(expectedPos.sky.rho, expectedPos.sky.theta)\n",
    "\n",
    "print(\"Converting Sky to Cam\")\n",
    "expectedPos.sky2cam()\n",
    "\n",
    "print(\"Cam Polar Coords:\")\n",
    "print(expectedPos.cam.theta, expectedPos.cam.theta)\n",
    "\n",
    "print(\"Converting to Cartesian\")\n",
    "expectedPos.cam.polar2cart()\n",
    "\n",
    "print(\"Cartesian Coords:\")\n",
    "print(expectedPos.cam.x, expectedPos.cam.y)\n",
    "\n",
    "# Mark expected star location on image\n",
    "cv2.circle(img, (pixelRound(expectedPos.cam.x),pixelRound(expectedPos.cam.y)),expectedMarker.radius, expectedMarker.color, expectedMarker.stroke)\n",
    "\n",
    "# Mark center\n",
    "cv2.circle(img, (256,256),3, (128,128,128), -1)\n",
    "\n",
    "plt.figure(figsize=(10,10))\n",
    "plt.imshow(img)"
   ]
  },
  {
   "cell_type": "markdown",
   "metadata": {
    "collapsed": false
   },
   "source": [
    "# 16 1 7\n",
    "\n",
    "Finding centroids closest to expected location\n",
    "\n",
    "Finding errors between expected and closest centroid"
   ]
  },
  {
   "cell_type": "code",
   "execution_count": null,
   "metadata": {
    "collapsed": false
   },
   "outputs": [],
   "source": [
    "# Finding closest centroid\n",
    "\n",
    "# Initialize distance list\n",
    "distance = [math.inf,math.inf]\n",
    "\n",
    "# Check distance to each centroid\n",
    "for i in np.arange(2):\n",
    "    distance[i] = np.linalg.norm((expectedPos.cam.x-centroid[i,0],expectedPos.cam.y-centroid[i,1]))\n",
    "\n",
    "# Find index of minimum distance    \n",
    "index = (distance.index(min(distance)))\n",
    "\n",
    "# Centroid with minimum distance becomes the observed position\n",
    "(observedPos.cam.x,observedPos.cam.y) = (centroid[index,0],centroid[index,1])\n",
    "\n",
    "# Create Blank Image\n",
    "img = np.zeros((imgDim,imgDim,3), np.uint8)\n",
    "\n",
    "# Mark centroid locations on image\n",
    "cv2.circle(img, (centroid[0,0].astype(np.uint16),centroid[0,1].astype(np.uint16)), centroidMarker.radius, centroidMarker.color, centroidMarker.stroke)\n",
    "cv2.circle(img, (centroid[1,0].astype(np.uint16),centroid[1,1].astype(np.uint16)), centroidMarker.radius, centroidMarker.color, centroidMarker.stroke)\n",
    "\n",
    "# Mark expected star location on image\n",
    "cv2.circle(img, (pixelRound(expectedPos.cam.x),pixelRound(expectedPos.cam.y)),expectedMarker.radius, expectedMarker.color, expectedMarker.stroke)\n",
    "\n",
    "# Mark observed star location on image\n",
    "cv2.circle(img, (pixelRound(observedPos.cam.x),pixelRound(observedPos.cam.y)),observedMarker.radius, observedMarker.color, observedMarker.stroke)\n",
    "\n",
    "plt.figure(figsize=(10,10))\n",
    "plt.imshow(img)"
   ]
  },
  {
   "cell_type": "code",
   "execution_count": null,
   "metadata": {
    "collapsed": false
   },
   "outputs": [],
   "source": [
    "# Calculating percent errors in position\n",
    "\n",
    "# Calculate polar coordinates of observed star\n",
    "observedPos.cam.cart2polar()\n",
    "\n",
    "# Calculate error in radius\n",
    "errorRadius = observedPos.cam.rho-expectedPos.cam.rho\n",
    "\n",
    "# Calculate error in angle\n",
    "errorTheta  = observedPos.cam.theta-expectedPos.cam.theta\n",
    "while(errorTheta<-180): # Get angle between -180 to 180\n",
    "    errorTheta += 360\n",
    "while(errorTheta>180):  # Get angle between -180 to 180\n",
    "    errorTheta -= 360\n",
    "\n",
    "# Calculate error in cartesian distance\n",
    "errorDistance = distance[index]\n",
    "                          \n",
    "print(errorRadius)                 \n",
    "print(errorTheta)\n",
    "print(errorDistance)"
   ]
  },
  {
   "cell_type": "code",
   "execution_count": null,
   "metadata": {
    "collapsed": false
   },
   "outputs": [],
   "source": [
    "# Calculating astrometric data of observed stars\n",
    "print(observedPos.cam.rho, observedPos.cam.theta)\n",
    "# Convert camera view of \n",
    "observedPos.cam2sky()\n",
    "\n",
    "# View astrometric data of observed stars\n",
    "print(expectedPos.sky.rho, expectedPos.sky.theta)\n",
    "print(observedPos.sky.rho, observedPos.sky.theta)"
   ]
  }
 ],
 "metadata": {
  "kernelspec": {
   "display_name": "Python 3",
   "language": "python",
   "name": "python3"
  },
  "language_info": {
   "codemirror_mode": {
    "name": "ipython",
    "version": 3
   },
   "file_extension": ".py",
   "mimetype": "text/x-python",
   "name": "python",
   "nbconvert_exporter": "python",
   "pygments_lexer": "ipython3",
   "version": "3.5.1"
  }
 },
 "nbformat": 4,
 "nbformat_minor": 0
}
