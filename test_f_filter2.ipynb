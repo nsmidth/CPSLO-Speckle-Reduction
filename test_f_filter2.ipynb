{
 "metadata": {
  "name": ""
 },
 "nbformat": 3,
 "nbformat_minor": 0,
 "worksheets": [
  {
   "cells": [
    {
     "cell_type": "heading",
     "level": 1,
     "metadata": {},
     "source": [
      "Frequency Domain Filters Testing 2"
     ]
    },
    {
     "cell_type": "heading",
     "level": 2,
     "metadata": {},
     "source": [
      "Import Modules"
     ]
    },
    {
     "cell_type": "code",
     "collapsed": false,
     "input": [
      "import numpy as np\n",
      "import matplotlib.pyplot as plt\n",
      "from scipy.fftpack import fft2,ifft2,fftshift\n",
      "from speckle_fns import fits_import, circ_filter1\n",
      "from speckle_fns import deconv0,deconv1, postprocess\n",
      "%matplotlib inline"
     ],
     "language": "python",
     "metadata": {},
     "outputs": []
    },
    {
     "cell_type": "code",
     "collapsed": false,
     "input": [
      "# Create function for easily displaying all important image info\n",
      "# Displays image of image in spatial and freq domain\n",
      "def disp_image(image):\n",
      "    \n",
      "    # Calculate FFT of img\n",
      "    imageF = fftshift(fft2(image))\n",
      "    \n",
      "    plt.figure(figsize=(18,16),dpi=300)\n",
      "\n",
      "    plt.subplot(2,2,1)\n",
      "    plt.imshow(np.abs(image))\n",
      "    plt.title(\"Spatial Magnitude\")\n",
      "    plt.colorbar()\n",
      "    \n",
      "    plt.subplot(2,2,2)\n",
      "    plt.imshow(np.angle(image))\n",
      "    plt.title(\"Spatial Phase\")\n",
      "    plt.colorbar()\n",
      "    \n",
      "    plt.subplot(2,2,3)\n",
      "    plt.imshow(np.log10( np.abs(imageF)+1E-12 ))\n",
      "    plt.title(\"Spatial Freq Magnitude\")\n",
      "    plt.colorbar()\n",
      "    \n",
      "    plt.subplot(2,2,4)\n",
      "    plt.imshow(np.angle(imageF))\n",
      "    plt.title(\"Spatial Freq Phase\")\n",
      "    plt.colorbar()\n",
      "    \n",
      "    plt.show()\n",
      "    \n",
      "# Displays image of filter in freq and spatial domain\n",
      "\n",
      "def disp_filter(imageF):\n",
      "    \n",
      "    # Calculate iFFT of img\n",
      "    image = fftshift(ifft2(imageF))\n",
      "    \n",
      "    plt.figure(figsize=(18,16),dpi=300)\n",
      "\n",
      "    plt.subplot(2,2,1)\n",
      "    plt.imshow(np.abs(image))\n",
      "    plt.title(\"Spatial Magnitude\")\n",
      "    plt.colorbar()\n",
      "    \n",
      "    plt.subplot(2,2,2)\n",
      "    plt.imshow(np.angle(image))\n",
      "    plt.title(\"Spatial Phase\")\n",
      "    plt.colorbar()\n",
      "    \n",
      "    plt.subplot(2,2,3)\n",
      "    plt.imshow(np.log10( np.abs(imageF)+1E-12 ))\n",
      "    plt.title(\"Spatial Freq Magnitude\")\n",
      "    plt.colorbar()\n",
      "    \n",
      "    plt.subplot(2,2,4)\n",
      "    plt.imshow(np.angle(imageF))\n",
      "    plt.title(\"Spatial Freq Phase\")\n",
      "    plt.colorbar()\n",
      "    \n",
      "    plt.show()\n"
     ],
     "language": "python",
     "metadata": {},
     "outputs": []
    },
    {
     "cell_type": "markdown",
     "metadata": {},
     "source": [
      "##Filter 4 Testing\n",
      "\n",
      "Creating a brick wall highpass filter as inverse of brick wall lowpass filter"
     ]
    },
    {
     "cell_type": "code",
     "collapsed": false,
     "input": [
      "# Creating test image in spatial domain to be filtered\n",
      "\n",
      "# Drawing Square\n",
      "\n",
      "# 512x512 Image\n",
      "img4 = np.zeros( (512,512) ) \n",
      "# Calculate image center\n",
      "imgCenter = np.shape(img4)[0]/2-1  \n",
      "# Define side size of square\n",
      "squareSize = 50\n",
      "# Calculate edges of square\n",
      "squareEdges = [0,0]\n",
      "squareEdges[0] = int(imgCenter-squareSize/2)\n",
      "squareEdges[1] = int(imgCenter+squareSize/2)\n",
      "\n",
      "# Loop through image, fill in square\n",
      "for i in range(squareEdges[0],squareEdges[1]):\n",
      "    for j in range(squareEdges[0],squareEdges[1]):\n",
      "        img4[i,j]=1\n",
      "\n",
      "# Display Test Image\n",
      "disp_image(img4)"
     ],
     "language": "python",
     "metadata": {},
     "outputs": []
    },
    {
     "cell_type": "code",
     "collapsed": false,
     "input": [
      "# Creating Basic HPF (circular)\n",
      "\n",
      "# 1D Filter Function\n",
      "def filter_fn4(radius):\n",
      "    return 1\n",
      "\n",
      "# 2D Filter Image\n",
      "# Generate lowpass filter to serve as inverse of highpass filter\n",
      "filter4_lp = circ_filter1(radius = 100, size = 512, filter_fn = filter_fn4)\n",
      "# Generate array of 1's to be subtracted from\n",
      "filter4_ones = np.zeros((512,512))\n",
      "filter4_ones.fill(1)\n",
      "# Calculate inverse of LP, which is HP\n",
      "filter4 = np.subtract(filter4_ones,filter4_lp)\n",
      "\n",
      "# Displaying filter and its spectrum\n",
      "disp_filter(filter4)"
     ],
     "language": "python",
     "metadata": {},
     "outputs": []
    },
    {
     "cell_type": "code",
     "collapsed": false,
     "input": [
      "# Applying LPF in freq domain\n",
      "\n",
      "# Get input image in freq domain\n",
      "img4F = fftshift( fft2(img4))\n",
      "\n",
      "# Multiply input image w/ Filter in Freq Domain\n",
      "output4F = np.multiply(img4F,filter4)\n",
      "\n",
      "# Inverse FFT to bring filtered image back to spatial domain\n",
      "output4 = ifft2(fftshift(output4F))\n",
      "\n",
      "# View filtered image\n",
      "disp_image(output4)"
     ],
     "language": "python",
     "metadata": {},
     "outputs": []
    },
    {
     "cell_type": "markdown",
     "metadata": {},
     "source": [
      "##Filter 5 Testing\n",
      "\n",
      "Attempting to use a circular HPF on some astro data"
     ]
    },
    {
     "cell_type": "code",
     "collapsed": false,
     "input": [
      "# Import Reference and Double Stars, perform basic deconvolution\n",
      "# Filenames\n",
      "filePathDouble = \"/home/niels/Desktop/KP330_PSD.fits\"\n",
      "filePathSingle = \"/home/niels/Desktop/KP331_PSD.fits\"\n",
      "# Import FITS file data\n",
      "fitsDoubleStar = fits_import(filePathDouble)\n",
      "fitsSingleStar = fits_import(filePathSingle)\n",
      "# Convert FITS Data to Floats\n",
      "psdDoubleStar = fitsDoubleStar.astype(float)\n",
      "psdSingleStar = fitsSingleStar.astype(float)\n",
      "# Perform Deconvolution\n",
      "constant = 1E-15\n",
      "psdDeconv1 = fftshift(deconv1(psdDoubleStar, psdSingleStar, constant))\n",
      "img2F = psdDeconv1\n",
      "\n",
      "# Display Deconvolution Image (Input to filter)\n",
      "disp_filter(img2F)"
     ],
     "language": "python",
     "metadata": {},
     "outputs": []
    },
    {
     "cell_type": "code",
     "collapsed": false,
     "input": [
      "# Creating Basic LPF (circular)\n",
      "\n",
      "# 1D Filter Function\n",
      "def filter_fn1(radius):\n",
      "    return 1\n",
      "\n",
      "# 2D Filter Image\n",
      "filter2 = circ_filter1(radius = 15, size = 512, filter_fn = filter_fn1)\n",
      "\n",
      "# Displaying filter and its spectrum\n",
      "\n",
      "disp_filter(filter2)"
     ],
     "language": "python",
     "metadata": {},
     "outputs": []
    },
    {
     "cell_type": "code",
     "collapsed": false,
     "input": [
      "# Applying LPF in freq domain\n",
      "\n",
      "# Multiply input image w/ Filter in Freq Domain\n",
      "output2F = np.multiply(img2F,filter2)\n",
      "\n",
      "# View filtered image\n",
      "disp_filter(output2F)"
     ],
     "language": "python",
     "metadata": {},
     "outputs": []
    },
    {
     "cell_type": "markdown",
     "metadata": {},
     "source": [
      "##Filter 3 Testing\n",
      "We have now used a brick wall filter, which has ringing in the spatial domain. This ringing is undesired, so we'd like to try a filter with little to no ringing, such as a gaussian filter. \n",
      "\n",
      "Wikipedia says eqauation in frequency domain is : $$g(f) = e^{(-(\\frac{\\pi^2 f^2}{a}))}$$"
     ]
    },
    {
     "cell_type": "code",
     "collapsed": false,
     "input": [
      "# Using same astro image as before with gaussian filter\n",
      "\n",
      "img3F = img2F\n",
      "\n",
      "# Define gaussian function\n",
      "def filter_fn3(radius):\n",
      "    stdDev = 10\n",
      "    return np.exp(-(np.power(radius,2)/(2*np.power(stdDev,2))))\n",
      "\n",
      "# Show the 1D frequency response of gaussian filter\n",
      "testIn = np.arange(0,256,0.1)\n",
      "testOut = filter_fn3(testIn)\n",
      "plt.plot(testIn,testOut)\n",
      "print(testIn[100], testOut[100])\n",
      "\n",
      "# Calculate 2D Gaussian filter\n",
      "filter3 = circ_filter1(radius = 255, size = 512, filter_fn = filter_fn3)\n",
      "\n",
      "# Displaying filter and its spectrum\n",
      "\n",
      "disp_filter(filter3)"
     ],
     "language": "python",
     "metadata": {},
     "outputs": []
    },
    {
     "cell_type": "code",
     "collapsed": false,
     "input": [
      "# Applying LPF in freq domain\n",
      "\n",
      "# Multiply input image w/ Filter in Freq Domain\n",
      "output3F = np.multiply(img3F,filter3)\n",
      "\n",
      "# View filtered image\n",
      "disp_filter(output3F)"
     ],
     "language": "python",
     "metadata": {},
     "outputs": []
    }
   ],
   "metadata": {}
  }
 ]
}