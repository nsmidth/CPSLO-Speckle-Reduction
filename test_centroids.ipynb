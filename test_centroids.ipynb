{
 "cells": [
  {
   "cell_type": "markdown",
   "metadata": {},
   "source": [
    "# 3D Plot of Autocorrelation\n",
    "\n",
    "Before viewing centroids, I'd like to view them as 3D contour plots"
   ]
  },
  {
   "cell_type": "code",
   "execution_count": null,
   "metadata": {
    "collapsed": false
   },
   "outputs": [],
   "source": [
    "# Import Modules\n",
    "import numpy as np\n",
    "import matplotlib.pyplot as plt\n",
    "from mpl_toolkits.mplot3d import Axes3D\n",
    "from scipy.fftpack import fft2,ifft2,fftshift\n",
    "from speckle_fns import fits_import, circ_filter1\n",
    "from speckle_fns import deconv0,deconv1, postprocess\n",
    "from speckle_fns import filter_lpf, filter_hpf, filter_interference\n",
    "import cv2\n",
    "\n",
    "%matplotlib inline"
   ]
  },
  {
   "cell_type": "code",
   "execution_count": null,
   "metadata": {
    "collapsed": false
   },
   "outputs": [],
   "source": [
    "# Generating Autocorrelogram\n",
    "\n",
    "# Filenames\n",
    "filePathDouble = \"/home/niels/Desktop/KP330_PSD.fits\"\n",
    "filePathSingle = \"/home/niels/Desktop/KP331_PSD.fits\"\n",
    "# Import FITS file data\n",
    "fitsDoubleStar = fits_import(filePathDouble)\n",
    "fitsSingleStar = fits_import(filePathSingle)\n",
    "# Convert FITS Data to Floats\n",
    "psdDoubleStar = fitsDoubleStar.astype(float)\n",
    "psdSingleStar = fitsSingleStar.astype(float)\n",
    "\n",
    "# Perform Deconvolution\n",
    "constant = 1E-15\n",
    "imgF = fftshift(deconv1(psdDoubleStar, psdSingleStar, constant))\n",
    "\n",
    "# Filter PSD:\n",
    "imgF_filtered = filter_interference(imgF)\n",
    "imgF_filtered = filter_lpf(imgF_filtered, 5)\n",
    "imgF_filtered = filter_hpf(imgF_filtered, 6, 0.8)\n",
    "\n",
    "# Postprocess\n",
    "img_autocorr = postprocess(imgF_filtered)\n",
    "\n",
    "# Plot Image\n",
    "plt.figure(figsize = (6,6))\n",
    "plt.imshow(img_autocorr)\n",
    "plt.title(\"Autocorr of Filtered Image\")\n",
    "plt.colorbar()\n",
    "\n",
    "# Create variables for surface plot\n",
    "x = np.arange(512)\n",
    "y = np.arange(512)\n",
    "x,y = np.meshgrid(x,y)\n",
    "z = img_autocorr\n",
    "\n",
    "# Plot surface plot \n",
    "fig = plt.figure(figsize=(16,16))\n",
    "ax = fig.gca(projection='3d')\n",
    "surf = ax.plot_surface(x,y,z,rstride=5,cstride=5, linewidth=0)"
   ]
  },
  {
   "cell_type": "code",
   "execution_count": null,
   "metadata": {
    "collapsed": false
   },
   "outputs": [],
   "source": [
    "# Using thresholding to try to find the peaks\n",
    "# Start with the max value of the image (so I'd remove everything), and work my way down\n",
    "#  until I have 3 well defined regions\n",
    "\n",
    "max_pixel = np.max(z)\n",
    "print(max_pixel)\n",
    "\n",
    "threshold = 100\n",
    "\n",
    "threshold_img = np.zeros(np.shape(z))\n",
    "\n",
    "for row in range(np.shape(z)[0]):\n",
    "    for column in range(np.shape(z)[0]):\n",
    "        threshold_img[row,column] = (z[row,column]>threshold)\n",
    "\n",
    "fig = plt.figure(figsize=(8,8))\n",
    "plt.imshow(threshold_img)\n",
    "\n"
   ]
  },
  {
   "cell_type": "code",
   "execution_count": null,
   "metadata": {
    "collapsed": false
   },
   "outputs": [],
   "source": [
    "# Can I use HPF to try to find the edges of these circles?\n",
    "\n",
    "edges_threshold=fftshift(fft2(threshold_img))\n",
    "\n",
    "hpf_img = np.zeros(np.shape(edges_threshold))\n",
    "hpf_img.fill(1)\n",
    "hpf_img = filter_hpf(hpf_img,50,1)\n",
    "\n",
    "edges_threshold = np.multiply(hpf_img,edges_threshold)\n",
    "\n",
    "edges_threshold = (ifft2(edges_threshold))\n",
    "\n",
    "plt.figure(figsize=(8,8))\n",
    "\n",
    "plt.imshow(np.log10(np.abs(edges_threshold)))\n",
    "\n",
    "# Doesn't look like this is too viable"
   ]
  },
  {
   "cell_type": "code",
   "execution_count": null,
   "metadata": {
    "collapsed": false
   },
   "outputs": [],
   "source": [
    "# Attempting to use openCV to find the 3 countours of thresholded \n",
    "threshold_img_scale = (np.multiply(255,threshold_img.astype(np.uint8)))\n",
    "\n",
    "# Find Contours\n",
    "im2,contours,hierarchy = cv2.findContours(threshold_img_scale,cv2.RETR_TREE,cv2.CHAIN_APPROX_SIMPLE)\n",
    "\n",
    "# Display Contours\n",
    "plt.figure(figsize=(20,7))\n",
    "for i in np.arange(3):\n",
    "    plt.subplot(1,3,i+1)\n",
    "    \n",
    "    # Draw contours on image\n",
    "    mask = np.zeros((512,512))\n",
    "    cv2.drawContours(mask,contours,i,(255,255,255),-1)\n",
    "    plt.imshow(mask)\n",
    "\n",
    "print(\"Number of Contours: \", len(contours))\n"
   ]
  },
  {
   "cell_type": "code",
   "execution_count": null,
   "metadata": {
    "collapsed": false
   },
   "outputs": [],
   "source": [
    "np.shape(mask)\n",
    "print(mask[90,90])"
   ]
  }
 ],
 "metadata": {
  "kernelspec": {
   "display_name": "Python 3",
   "language": "python",
   "name": "python3"
  },
  "language_info": {
   "codemirror_mode": {
    "name": "ipython",
    "version": 3
   },
   "file_extension": ".py",
   "mimetype": "text/x-python",
   "name": "python",
   "nbconvert_exporter": "python",
   "pygments_lexer": "ipython3",
   "version": "3.5.1"
  }
 },
 "nbformat": 4,
 "nbformat_minor": 0
}
