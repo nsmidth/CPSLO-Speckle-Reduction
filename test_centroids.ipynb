{
 "metadata": {
  "name": ""
 },
 "nbformat": 3,
 "nbformat_minor": 0,
 "worksheets": [
  {
   "cells": [
    {
     "cell_type": "markdown",
     "metadata": {},
     "source": [
      "# 3D Plot of Autocorrelation\n",
      "\n",
      "Before viewing centroids, I'd like to view them as 3D contour plots"
     ]
    },
    {
     "cell_type": "code",
     "collapsed": false,
     "input": [
      "# Import Modules\n",
      "import numpy as np\n",
      "import matplotlib.pyplot as plt\n",
      "from mpl_toolkits.mplot3d import Axes3D\n",
      "from scipy.fftpack import fft2,ifft2,fftshift\n",
      "from speckle_fns import fits_import, circ_filter1\n",
      "from speckle_fns import deconv0,deconv1, postprocess\n",
      "from speckle_fns import filter_lpf, filter_hpf, filter_interference\n",
      "%matplotlib inline"
     ],
     "language": "python",
     "metadata": {},
     "outputs": []
    },
    {
     "cell_type": "code",
     "collapsed": false,
     "input": [
      "# Generating Autocorrelogram\n",
      "\n",
      "# Filenames\n",
      "filePathDouble = \"/home/niels/Desktop/KP330_PSD.fits\"\n",
      "filePathSingle = \"/home/niels/Desktop/KP331_PSD.fits\"\n",
      "# Import FITS file data\n",
      "fitsDoubleStar = fits_import(filePathDouble)\n",
      "fitsSingleStar = fits_import(filePathSingle)\n",
      "# Convert FITS Data to Floats\n",
      "psdDoubleStar = fitsDoubleStar.astype(float)\n",
      "psdSingleStar = fitsSingleStar.astype(float)\n",
      "# Perform Deconvolution\n",
      "constant = 1E-15\n",
      "imgF = fftshift(deconv1(psdDoubleStar, psdSingleStar, constant))\n",
      "\n",
      "# Filter PSD:\n",
      "imgF_filtered = filter_interference(imgF)\n",
      "imgF_filtered = filter_lpf(imgF_filtered, 10)\n",
      "imgF_filtered = filter_hpf(imgF_filtered, 6, 0.8)\n",
      "\n",
      "# Postprocess\n",
      "img_autocorr = postprocess(imgF_filtered)\n",
      "plt.figure(figsize = (6,6))\n",
      "plt.imshow(img_autocorr)\n",
      "plt.title(\"Autocorr of Filtered Image\")\n",
      "plt.colorbar()\n"
     ],
     "language": "python",
     "metadata": {},
     "outputs": []
    },
    {
     "cell_type": "code",
     "collapsed": false,
     "input": [
      "# Create variables for surface plot\n",
      "x = np.arange(512)\n",
      "y = np.arange(512)\n",
      "x,y = np.meshgrid(x,y)\n",
      "z = img_autocorr\n",
      "\n",
      "# Plot surface plot \n",
      "fig = plt.figure(figsize=(16,16))\n",
      "ax = fig.gca(projection='3d')\n",
      "surf = ax.plot_surface(x,y,z,rstride=5,cstride=5, linewidth=0)\n",
      "\n",
      "plt.show()"
     ],
     "language": "python",
     "metadata": {},
     "outputs": []
    },
    {
     "cell_type": "code",
     "collapsed": false,
     "input": [
      "\n",
      "\n"
     ],
     "language": "python",
     "metadata": {},
     "outputs": []
    },
    {
     "cell_type": "code",
     "collapsed": false,
     "input": [],
     "language": "python",
     "metadata": {},
     "outputs": []
    }
   ],
   "metadata": {}
  }
 ]
}