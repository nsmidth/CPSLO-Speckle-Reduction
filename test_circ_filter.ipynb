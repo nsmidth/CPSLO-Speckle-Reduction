{
 "metadata": {
  "name": ""
 },
 "nbformat": 3,
 "nbformat_minor": 0,
 "worksheets": [
  {
   "cells": [
    {
     "cell_type": "markdown",
     "metadata": {},
     "source": [
      "#test_cir_filter Function Creation\n",
      "Developing a function to turn a 1D function equation into a circular 2D function\n",
      "\n",
      "*Inputs:*\n",
      "- Radius of filter\n",
      "- Total size of filter image\n",
      "- Filter function\n",
      "\n",
      "*Outputs:*\n",
      "- Filter image\n",
      "\n",
      "*Example: for inputs*\n",
      "- Radius = 5\n",
      "- Total Size = 101,101\n",
      "- Function = 5\n",
      "\n",
      "Image generated would be a circle of radius 5, centered at 50,50 of 101,101 array\n",
      "\n",
      "\n",
      "Need to consider the coordinate [0,0] to be the center of the pixel at [0,0], aka the pixel's index location is located at its center."
     ]
    },
    {
     "cell_type": "heading",
     "level": 1,
     "metadata": {},
     "source": [
      "Code"
     ]
    },
    {
     "cell_type": "code",
     "collapsed": false,
     "input": [
      "# Input values\n",
      "\n",
      "radius = 2\n",
      "size = 8   # These inputs should create a circle\n",
      "function = 1"
     ],
     "language": "python",
     "metadata": {},
     "outputs": [],
     "prompt_number": 58
    },
    {
     "cell_type": "code",
     "collapsed": false,
     "input": [
      "# Import Modules\n",
      "import numpy as np\n",
      "import sys\n",
      "import math\n",
      "\n",
      "# Check if filter's radius is too large for defined size\n",
      "if (radius > (size/2.0)):\n",
      "    print(\"Radius is larger than half the image size\")\n",
      "    sys.exit()\n",
      "    \n",
      "# Calculate important dimensions of filter\n",
      "## Center of image indices, where filter will be centered\n",
      "center = [size/2.0, size/2.0]\n",
      "\n",
      "## Image indices for looping through area of image with \n",
      "##  the filter image\n",
      "edges = {\"start\":0,\n",
      "         \"end\":0}\n",
      "edges[\"start\"]=(center[0]-radius)\n",
      "edges[\"end\"]=(center[0]+radius)"
     ],
     "language": "python",
     "metadata": {},
     "outputs": [],
     "prompt_number": 59
    },
    {
     "cell_type": "code",
     "collapsed": false,
     "input": [
      "print(center)\n",
      "print(edges)\n",
      "print(np.ceil(edges[\"end\"]))\n"
     ],
     "language": "python",
     "metadata": {},
     "outputs": [
      {
       "output_type": "stream",
       "stream": "stdout",
       "text": [
        "[4.0, 4.0]\n",
        "{'start': 2.0, 'end': 6.0}\n",
        "6.0\n"
       ]
      }
     ],
     "prompt_number": 60
    },
    {
     "cell_type": "code",
     "collapsed": false,
     "input": [],
     "language": "python",
     "metadata": {},
     "outputs": []
    }
   ],
   "metadata": {}
  }
 ]
}