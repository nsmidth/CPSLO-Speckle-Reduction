{
 "metadata": {
  "name": ""
 },
 "nbformat": 3,
 "nbformat_minor": 0,
 "worksheets": [
  {
   "cells": [
    {
     "cell_type": "markdown",
     "metadata": {},
     "source": [
      "#test_cir_filter Function Creation\n",
      "Developing a function to turn a 1D function equation into a circular 2D function\n",
      "\n",
      "*Inputs:*\n",
      "- Radius of filter\n",
      "- Total size of filter image\n",
      "- Filter function\n",
      "\n",
      "*Outputs:*\n",
      "- Filter image\n",
      "\n",
      "*Example: for inputs*\n",
      "- Radius = 5\n",
      "- Total Size = 101,101\n",
      "- Function = 5\n",
      "\n",
      "Image generated would be a circle of radius 5, centered at 50,50 of 101,101 array\n",
      "\n",
      "*Basic behavior:* \n",
      "- Define a square for which radius is definitely inside\n",
      "- Loop through this square. At each point, check if pixel address is within the radius of the circle. Considering the pixel's address to be located at the center of the pixel. \n",
      "- If within radius, calculate value of filter function and set\n",
      "\n",
      "*Checking for inside radius*\n",
      "\n",
      "Circle centered on (0,0): $$x^2 + y^2 = r^2$$\n",
      "Circle centered at image center: $$(x-center)^2+(y-center)^2 = r^2$$"
     ]
    },
    {
     "cell_type": "heading",
     "level": 1,
     "metadata": {},
     "source": [
      "Code"
     ]
    },
    {
     "cell_type": "code",
     "collapsed": false,
     "input": [
      "# Input values\n",
      "\n",
      "radius = 50\n",
      "size = 512   # These inputs should create a circle\n",
      "function = 1"
     ],
     "language": "python",
     "metadata": {},
     "outputs": []
    },
    {
     "cell_type": "code",
     "collapsed": false,
     "input": [
      "# Import Modules\n",
      "import numpy as np\n",
      "import sys\n",
      "import math\n",
      "import matplotlib.pyplot as plt\n",
      "%matplotlib inline\n",
      "\n",
      "# Returns radius of pixel, as given in x and y coordinates\n",
      "def pixel_radius(x,y):\n",
      "    radius = np.power( (np.power(x,2)+np.power(y,2)), 0.5 )\n",
      "    return radius\n",
      "\n",
      "# Check if filter's radius is too large for defined size\n",
      "if (radius > (size/2.0)):\n",
      "    print(\"Radius is larger than half the image size\")\n",
      "    sys.exit()\n",
      "\n",
      "# Center of image indices, where filter will be centered\n",
      "center = (size-1)/2.0\n",
      "\n",
      "# Image indices for looping through area of image with \n",
      "#  the filter image\n",
      "edges = {\"start\":0,\n",
      "         \"end\":0}\n",
      "edges[\"start\"]=np.floor(center-radius)\n",
      "edges[\"end\"]=np.ceil(center+radius)\n",
      "\n",
      "# Create Empty 2D array to hold pixel values\n",
      "image = np.zeros((size,size))\n",
      "\n",
      "# Loop through all pixels within square to draw circle\n",
      "# Loop through all rows\n",
      "for row in np.arange(edges['start'],edges['end']+1):\n",
      "    # Loop through all columns of row\n",
      "    for column in np.arange(edges['start'],edges['end']+1):\n",
      "        # Check if pixel is within circle's radius\n",
      "        if (pixel_radius( (row-center),(column-center) )< radius):\n",
      "            image[row,column] = 1\n"
     ],
     "language": "python",
     "metadata": {},
     "outputs": []
    },
    {
     "cell_type": "code",
     "collapsed": false,
     "input": [
      "print(\"Radius = \", radius)\n",
      "print(\"Radius Squared = \", rSq)\n",
      "print(\"Image Size = \", size)\n",
      "print(\"Center = \", center)\n",
      "print(\"Edges = \", edges)\n",
      "print(\"Image dimensions = \", image.shape)\n",
      "\n",
      "plt.imshow(image)\n",
      "plt.colorbar()\n",
      "plt.show()"
     ],
     "language": "python",
     "metadata": {},
     "outputs": []
    },
    {
     "cell_type": "code",
     "collapsed": false,
     "input": [],
     "language": "python",
     "metadata": {},
     "outputs": []
    }
   ],
   "metadata": {}
  }
 ]
}